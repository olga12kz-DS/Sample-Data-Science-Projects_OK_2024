{
 "cells": [
  {
   "cell_type": "markdown",
   "id": "a6932f54-8ab2-4f80-a6b5-712b9f00bc19",
   "metadata": {},
   "source": [
    "# Solution for Logistic Regression (Supervised Learning)\n",
    "## Problem Statement:\n",
    "\n",
    "Insurance companies invest a lot of time and money into optimizing their pricing and accurately estimating the likelihood that customers will make a claim. In many countries insurance it is a legal requirement to have car insurance in order to drive a vehicle on public roads, so the market is very large! \n",
    "Knowing all of this, On the Road car insurance have requested your services in **building a model to predict whether a customer will make a claim on their insurance during the policy period** . As they have very little expertise and infrastructure for deploying and monitoring machine learning models, they've asked you to identify the single feature that results in the best performing model, as measured by accuracy, so they can start with a simple model in production\r\n",
    "They have supplied you with their customer data as a csv file call e`d car_insurance.c` .k\n",
    "1. Identify the single feature of the data that is the best predictor of whether a customer will put in a claim.'\n",
    "2. Store as a DataFrame called  *best_feature_df*  with the name of the feature with the highest accuracy and the respective accuracy score\n",
    "    ## Result\n",
    "The feature with the highest accuracy among all of the predictors is the age. Its accuracy, i.e., the proportion of correctly classified outcomes, is 69%, as shown in the last step of the code.\n",
    "w.\r\n"
   ]
  },
  {
   "cell_type": "markdown",
   "id": "8313b46c-aa97-4e11-a53f-03e252f337f3",
   "metadata": {},
   "source": [
    "# Code "
   ]
  },
  {
   "cell_type": "code",
   "execution_count": 7,
   "id": "f96bbfa5-3667-42ff-a8ea-8a23024ad2af",
   "metadata": {},
   "outputs": [],
   "source": [
    "# Import requried packages\n",
    "import os\n",
    "import pandas as pd\n",
    "import numpy as np\n",
    "import matplotlib.pyplot as plt\n",
    "from statsmodels.formula.api import logit"
   ]
  },
  {
   "cell_type": "code",
   "execution_count": 8,
   "id": "d59e4d7e-0cf0-4196-b400-946fdaca6964",
   "metadata": {},
   "outputs": [
    {
     "data": {
      "text/plain": [
       "'C:\\\\Users\\\\OK'"
      ]
     },
     "execution_count": 8,
     "metadata": {},
     "output_type": "execute_result"
    }
   ],
   "source": [
    "pwd"
   ]
  },
  {
   "cell_type": "code",
   "execution_count": 9,
   "id": "762495b0-ff53-4906-ad1c-ec27937fa6b1",
   "metadata": {},
   "outputs": [],
   "source": [
    "# Load and Explore Data\n",
    "# Read in the csv file \n",
    "car_ins_orig = pd.read_csv(r\"C:\\Users\\OK\\Documents\\Self\\I know Python\\car_insurance.csv\")"
   ]
  },
  {
   "cell_type": "code",
   "execution_count": 10,
   "id": "7c835a9c-d907-45d5-953c-bd7ad1c43b17",
   "metadata": {},
   "outputs": [
    {
     "name": "stdout",
     "output_type": "stream",
     "text": [
      "<class 'pandas.core.frame.DataFrame'>\n",
      "RangeIndex: 10000 entries, 0 to 9999\n",
      "Data columns (total 18 columns):\n",
      " #   Column               Non-Null Count  Dtype  \n",
      "---  ------               --------------  -----  \n",
      " 0   id                   10000 non-null  int64  \n",
      " 1   age                  10000 non-null  int64  \n",
      " 2   gender               10000 non-null  int64  \n",
      " 3   driving_experience   10000 non-null  object \n",
      " 4   education            10000 non-null  object \n",
      " 5   income               10000 non-null  object \n",
      " 6   credit_score         9018 non-null   float64\n",
      " 7   vehicle_ownership    10000 non-null  float64\n",
      " 8   vehicle_year         10000 non-null  object \n",
      " 9   married              10000 non-null  float64\n",
      " 10  children             10000 non-null  float64\n",
      " 11  postal_code          10000 non-null  int64  \n",
      " 12  annual_mileage       9043 non-null   float64\n",
      " 13  vehicle_type         10000 non-null  object \n",
      " 14  speeding_violations  10000 non-null  int64  \n",
      " 15  duis                 10000 non-null  int64  \n",
      " 16  past_accidents       10000 non-null  int64  \n",
      " 17  outcome              10000 non-null  float64\n",
      "dtypes: float64(6), int64(7), object(5)\n",
      "memory usage: 1.4+ MB\n"
     ]
    },
    {
     "data": {
      "text/html": [
       "<div>\n",
       "<style scoped>\n",
       "    .dataframe tbody tr th:only-of-type {\n",
       "        vertical-align: middle;\n",
       "    }\n",
       "\n",
       "    .dataframe tbody tr th {\n",
       "        vertical-align: top;\n",
       "    }\n",
       "\n",
       "    .dataframe thead th {\n",
       "        text-align: right;\n",
       "    }\n",
       "</style>\n",
       "<table border=\"1\" class=\"dataframe\">\n",
       "  <thead>\n",
       "    <tr style=\"text-align: right;\">\n",
       "      <th></th>\n",
       "      <th>id</th>\n",
       "      <th>age</th>\n",
       "      <th>gender</th>\n",
       "      <th>credit_score</th>\n",
       "      <th>vehicle_ownership</th>\n",
       "      <th>married</th>\n",
       "      <th>children</th>\n",
       "      <th>postal_code</th>\n",
       "      <th>annual_mileage</th>\n",
       "      <th>speeding_violations</th>\n",
       "      <th>duis</th>\n",
       "      <th>past_accidents</th>\n",
       "      <th>outcome</th>\n",
       "    </tr>\n",
       "  </thead>\n",
       "  <tbody>\n",
       "    <tr>\n",
       "      <th>count</th>\n",
       "      <td>10000.000000</td>\n",
       "      <td>10000.000000</td>\n",
       "      <td>10000.000000</td>\n",
       "      <td>9018.000000</td>\n",
       "      <td>10000.000000</td>\n",
       "      <td>10000.000000</td>\n",
       "      <td>10000.000000</td>\n",
       "      <td>10000.000000</td>\n",
       "      <td>9043.000000</td>\n",
       "      <td>10000.000000</td>\n",
       "      <td>10000.00000</td>\n",
       "      <td>10000.000000</td>\n",
       "      <td>10000.000000</td>\n",
       "    </tr>\n",
       "    <tr>\n",
       "      <th>mean</th>\n",
       "      <td>500521.906800</td>\n",
       "      <td>1.489500</td>\n",
       "      <td>0.499000</td>\n",
       "      <td>0.515813</td>\n",
       "      <td>0.697000</td>\n",
       "      <td>0.498200</td>\n",
       "      <td>0.688800</td>\n",
       "      <td>19864.548400</td>\n",
       "      <td>11697.003207</td>\n",
       "      <td>1.482900</td>\n",
       "      <td>0.23920</td>\n",
       "      <td>1.056300</td>\n",
       "      <td>0.313300</td>\n",
       "    </tr>\n",
       "    <tr>\n",
       "      <th>std</th>\n",
       "      <td>290030.768758</td>\n",
       "      <td>1.025278</td>\n",
       "      <td>0.500024</td>\n",
       "      <td>0.137688</td>\n",
       "      <td>0.459578</td>\n",
       "      <td>0.500022</td>\n",
       "      <td>0.463008</td>\n",
       "      <td>18915.613855</td>\n",
       "      <td>2818.434528</td>\n",
       "      <td>2.241966</td>\n",
       "      <td>0.55499</td>\n",
       "      <td>1.652454</td>\n",
       "      <td>0.463858</td>\n",
       "    </tr>\n",
       "    <tr>\n",
       "      <th>min</th>\n",
       "      <td>101.000000</td>\n",
       "      <td>0.000000</td>\n",
       "      <td>0.000000</td>\n",
       "      <td>0.053358</td>\n",
       "      <td>0.000000</td>\n",
       "      <td>0.000000</td>\n",
       "      <td>0.000000</td>\n",
       "      <td>10238.000000</td>\n",
       "      <td>2000.000000</td>\n",
       "      <td>0.000000</td>\n",
       "      <td>0.00000</td>\n",
       "      <td>0.000000</td>\n",
       "      <td>0.000000</td>\n",
       "    </tr>\n",
       "    <tr>\n",
       "      <th>25%</th>\n",
       "      <td>249638.500000</td>\n",
       "      <td>1.000000</td>\n",
       "      <td>0.000000</td>\n",
       "      <td>0.417191</td>\n",
       "      <td>0.000000</td>\n",
       "      <td>0.000000</td>\n",
       "      <td>0.000000</td>\n",
       "      <td>10238.000000</td>\n",
       "      <td>10000.000000</td>\n",
       "      <td>0.000000</td>\n",
       "      <td>0.00000</td>\n",
       "      <td>0.000000</td>\n",
       "      <td>0.000000</td>\n",
       "    </tr>\n",
       "    <tr>\n",
       "      <th>50%</th>\n",
       "      <td>501777.000000</td>\n",
       "      <td>1.000000</td>\n",
       "      <td>0.000000</td>\n",
       "      <td>0.525033</td>\n",
       "      <td>1.000000</td>\n",
       "      <td>0.000000</td>\n",
       "      <td>1.000000</td>\n",
       "      <td>10238.000000</td>\n",
       "      <td>12000.000000</td>\n",
       "      <td>0.000000</td>\n",
       "      <td>0.00000</td>\n",
       "      <td>0.000000</td>\n",
       "      <td>0.000000</td>\n",
       "    </tr>\n",
       "    <tr>\n",
       "      <th>75%</th>\n",
       "      <td>753974.500000</td>\n",
       "      <td>2.000000</td>\n",
       "      <td>1.000000</td>\n",
       "      <td>0.618312</td>\n",
       "      <td>1.000000</td>\n",
       "      <td>1.000000</td>\n",
       "      <td>1.000000</td>\n",
       "      <td>32765.000000</td>\n",
       "      <td>14000.000000</td>\n",
       "      <td>2.000000</td>\n",
       "      <td>0.00000</td>\n",
       "      <td>2.000000</td>\n",
       "      <td>1.000000</td>\n",
       "    </tr>\n",
       "    <tr>\n",
       "      <th>max</th>\n",
       "      <td>999976.000000</td>\n",
       "      <td>3.000000</td>\n",
       "      <td>1.000000</td>\n",
       "      <td>0.960819</td>\n",
       "      <td>1.000000</td>\n",
       "      <td>1.000000</td>\n",
       "      <td>1.000000</td>\n",
       "      <td>92101.000000</td>\n",
       "      <td>22000.000000</td>\n",
       "      <td>22.000000</td>\n",
       "      <td>6.00000</td>\n",
       "      <td>15.000000</td>\n",
       "      <td>1.000000</td>\n",
       "    </tr>\n",
       "  </tbody>\n",
       "</table>\n",
       "</div>"
      ],
      "text/plain": [
       "                  id           age        gender  credit_score  \\\n",
       "count   10000.000000  10000.000000  10000.000000   9018.000000   \n",
       "mean   500521.906800      1.489500      0.499000      0.515813   \n",
       "std    290030.768758      1.025278      0.500024      0.137688   \n",
       "min       101.000000      0.000000      0.000000      0.053358   \n",
       "25%    249638.500000      1.000000      0.000000      0.417191   \n",
       "50%    501777.000000      1.000000      0.000000      0.525033   \n",
       "75%    753974.500000      2.000000      1.000000      0.618312   \n",
       "max    999976.000000      3.000000      1.000000      0.960819   \n",
       "\n",
       "       vehicle_ownership       married      children   postal_code  \\\n",
       "count       10000.000000  10000.000000  10000.000000  10000.000000   \n",
       "mean            0.697000      0.498200      0.688800  19864.548400   \n",
       "std             0.459578      0.500022      0.463008  18915.613855   \n",
       "min             0.000000      0.000000      0.000000  10238.000000   \n",
       "25%             0.000000      0.000000      0.000000  10238.000000   \n",
       "50%             1.000000      0.000000      1.000000  10238.000000   \n",
       "75%             1.000000      1.000000      1.000000  32765.000000   \n",
       "max             1.000000      1.000000      1.000000  92101.000000   \n",
       "\n",
       "       annual_mileage  speeding_violations         duis  past_accidents  \\\n",
       "count     9043.000000         10000.000000  10000.00000    10000.000000   \n",
       "mean     11697.003207             1.482900      0.23920        1.056300   \n",
       "std       2818.434528             2.241966      0.55499        1.652454   \n",
       "min       2000.000000             0.000000      0.00000        0.000000   \n",
       "25%      10000.000000             0.000000      0.00000        0.000000   \n",
       "50%      12000.000000             0.000000      0.00000        0.000000   \n",
       "75%      14000.000000             2.000000      0.00000        2.000000   \n",
       "max      22000.000000            22.000000      6.00000       15.000000   \n",
       "\n",
       "            outcome  \n",
       "count  10000.000000  \n",
       "mean       0.313300  \n",
       "std        0.463858  \n",
       "min        0.000000  \n",
       "25%        0.000000  \n",
       "50%        0.000000  \n",
       "75%        1.000000  \n",
       "max        1.000000  "
      ]
     },
     "execution_count": 10,
     "metadata": {},
     "output_type": "execute_result"
    }
   ],
   "source": [
    "# Explore the file\n",
    "car_ins_orig.head()\n",
    "car_ins_orig.info()\n",
    "car_ins_orig.describe()"
   ]
  },
  {
   "cell_type": "code",
   "execution_count": 11,
   "id": "429c519e-8f6f-49b1-bfc4-9c1cba54aa69",
   "metadata": {},
   "outputs": [
    {
     "name": "stdout",
     "output_type": "stream",
     "text": [
      "id                     False\n",
      "age                    False\n",
      "gender                 False\n",
      "driving_experience     False\n",
      "education              False\n",
      "income                 False\n",
      "credit_score            True\n",
      "vehicle_ownership      False\n",
      "vehicle_year           False\n",
      "married                False\n",
      "children               False\n",
      "postal_code            False\n",
      "annual_mileage          True\n",
      "vehicle_type           False\n",
      "speeding_violations    False\n",
      "duis                   False\n",
      "past_accidents         False\n",
      "outcome                False\n",
      "dtype: bool\n"
     ]
    },
    {
     "data": {
      "text/plain": [
       "11697.003206900365"
      ]
     },
     "execution_count": 11,
     "metadata": {},
     "output_type": "execute_result"
    }
   ],
   "source": [
    "# Identify and replace missing values\n",
    "## Identify columns with missing values\n",
    "print(car_ins_orig.isna().any())\n",
    "car_ins_orig[\"credit_score\"].mean() # mean = 0.516\n",
    "car_ins_orig[\"annual_mileage\"].mean() # mean = 11,697"
   ]
  },
  {
   "cell_type": "code",
   "execution_count": 12,
   "id": "87d03529-b2ab-4b32-9bd9-15c1283eee2b",
   "metadata": {},
   "outputs": [
    {
     "data": {
      "image/png": "[encoded data removed]",
      "text/plain": [
       "<Figure size 640x480 with 1 Axes>"
      ]
     },
     "metadata": {},
     "output_type": "display_data"
    }
   ],
   "source": [
    "# Check distribution of the variables with missing values (to confirm normality for replacement with the mean)\n",
    "plt.hist(car_ins_orig[\"credit_score\"], bins = 50)\n",
    "plt.show()"
   ]
  },
  {
   "cell_type": "code",
   "execution_count": 13,
   "id": "ae5157b4-2b34-46b1-a68b-9ce76ed4f9cc",
   "metadata": {},
   "outputs": [
    {
     "data": {
      "image/png": "[encoded data removed]",
      "text/plain": [
       "<Figure size 640x480 with 1 Axes>"
      ]
     },
     "metadata": {},
     "output_type": "display_data"
    }
   ],
   "source": [
    "plt.hist(car_ins_orig[\"annual_mileage\"], bins = 25)\n",
    "plt.show()"
   ]
  },
  {
   "cell_type": "code",
   "execution_count": 14,
   "id": "3632875b-f23d-4642-9b45-466a69cfba10",
   "metadata": {},
   "outputs": [],
   "source": [
    "## Replace missing values with corresponding means for both variables.\n",
    "car_ins_filled = car_ins_orig.fillna({\"credit_score\": car_ins_orig[\"credit_score\"].mean(), \"annual_mileage\": car_ins_orig[\"annual_mileage\"].mean()})"
   ]
  },
  {
   "cell_type": "code",
   "execution_count": 15,
   "id": "cb3d0859-65a3-44f7-9ef7-80a96b0e3410",
   "metadata": {},
   "outputs": [
    {
     "name": "stdout",
     "output_type": "stream",
     "text": [
      "id                     False\n",
      "age                    False\n",
      "gender                 False\n",
      "driving_experience     False\n",
      "education              False\n",
      "income                 False\n",
      "credit_score           False\n",
      "vehicle_ownership      False\n",
      "vehicle_year           False\n",
      "married                False\n",
      "children               False\n",
      "postal_code            False\n",
      "annual_mileage         False\n",
      "vehicle_type           False\n",
      "speeding_violations    False\n",
      "duis                   False\n",
      "past_accidents         False\n",
      "outcome                False\n",
      "dtype: bool\n"
     ]
    },
    {
     "data": {
      "text/plain": [
       "11697.003206900365"
      ]
     },
     "execution_count": 15,
     "metadata": {},
     "output_type": "execute_result"
    }
   ],
   "source": [
    "## Confirm no missing values and filled means\n",
    "print(car_ins_filled.isna().any())\n",
    "car_ins_filled[\"credit_score\"].mean() # mean = 0.516\n",
    "car_ins_filled[\"annual_mileage\"].mean() # mean = 11,697"
   ]
  },
  {
   "cell_type": "code",
   "execution_count": 16,
   "id": "ead03c48-27c0-4056-ada7-f4edddf08d02",
   "metadata": {},
   "outputs": [],
   "source": [
    "# Prepare for modeling\n",
    "## Set up an empty list for models per feature and a feature-only variable\n",
    "models = []\n",
    "features = car_ins_filled.drop(columns=[\"id\", \"outcome\"]).columns"
   ]
  },
  {
   "cell_type": "code",
   "execution_count": 17,
   "id": "c6f148d6-a398-4610-887a-e592bef6d00d",
   "metadata": {},
   "outputs": [
    {
     "name": "stdout",
     "output_type": "stream",
     "text": [
      "Optimization terminated successfully.\n",
      "         Current function value: 0.511794\n",
      "         Iterations 6\n",
      "Optimization terminated successfully.\n",
      "         Current function value: 0.615951\n",
      "         Iterations 5\n",
      "Optimization terminated successfully.\n",
      "         Current function value: 0.467092\n",
      "         Iterations 8\n",
      "Optimization terminated successfully.\n",
      "         Current function value: 0.603742\n",
      "         Iterations 5\n",
      "Optimization terminated successfully.\n",
      "         Current function value: 0.531499\n",
      "         Iterations 6\n",
      "Optimization terminated successfully.\n",
      "         Current function value: 0.572557\n",
      "         Iterations 6\n",
      "Optimization terminated successfully.\n",
      "         Current function value: 0.552412\n",
      "         Iterations 5\n",
      "Optimization terminated successfully.\n",
      "         Current function value: 0.572668\n",
      "         Iterations 6\n",
      "Optimization terminated successfully.\n",
      "         Current function value: 0.586659\n",
      "         Iterations 5\n",
      "Optimization terminated successfully.\n",
      "         Current function value: 0.595431\n",
      "         Iterations 5\n",
      "Optimization terminated successfully.\n",
      "         Current function value: 0.617345\n",
      "         Iterations 5\n",
      "Optimization terminated successfully.\n",
      "         Current function value: 0.605716\n",
      "         Iterations 5\n",
      "Optimization terminated successfully.\n",
      "         Current function value: 0.621700\n",
      "         Iterations 5\n",
      "Optimization terminated successfully.\n",
      "         Current function value: 0.558922\n",
      "         Iterations 7\n",
      "Optimization terminated successfully.\n",
      "         Current function value: 0.598699\n",
      "         Iterations 6\n",
      "Optimization terminated successfully.\n",
      "         Current function value: 0.549220\n",
      "         Iterations 7\n"
     ]
    }
   ],
   "source": [
    "## Create a for loop for each predictor\n",
    "for col in features:\n",
    "    model = logit(f\"outcome ~ {col}\", data=car_ins_filled).fit()\n",
    "    models.append(model)"
   ]
  },
  {
   "cell_type": "code",
   "execution_count": 18,
   "id": "e41e5acb-0e6c-4182-970d-ff6d589c3918",
   "metadata": {},
   "outputs": [],
   "source": [
    "## Check accuracies of each model by creating a confusion matrix\n",
    "accuracies = []\n",
    "for feature in range(0, len(models)):\n",
    "    conf_matrix = models[feature].pred_table()"
   ]
  },
  {
   "cell_type": "code",
   "execution_count": 19,
   "id": "320aa20b-a5c9-467a-bc36-b549bf08a84e",
   "metadata": {},
   "outputs": [],
   "source": [
    "## Calculate accuracy rates\n",
    "TN = conf_matrix[0,0]\n",
    "TP = conf_matrix[1,1]\n",
    "FN = conf_matrix[1,0]\n",
    "FP = conf_matrix[0,1]"
   ]
  },
  {
   "cell_type": "code",
   "execution_count": 20,
   "id": "92b4810f-ddb8-4917-ad93-4e1d773ff84c",
   "metadata": {},
   "outputs": [],
   "source": [
    "accuracy = (TN + TP) / (TN + FN + FP + TP)\n",
    "accuracies.append(accuracy)"
   ]
  },
  {
   "cell_type": "code",
   "execution_count": 21,
   "id": "a09f5e25-9231-4042-8c10-ee6309f46b0e",
   "metadata": {},
   "outputs": [],
   "source": [
    "## Identify feature with highest accuracy\n",
    "best_feature = features[accuracies.index(max(accuracies))]"
   ]
  },
  {
   "cell_type": "code",
   "execution_count": 22,
   "id": "fac4f4cf-c9d0-4268-bdc7-e0370cef167e",
   "metadata": {},
   "outputs": [],
   "source": [
    "## Create best_feature_df\n",
    "best_feature_df = pd.DataFrame({\"best_feature\": best_feature,\n",
    "                                \"best_accuracy\": max(accuracies)},\n",
    "                                index=[0])"
   ]
  },
  {
   "cell_type": "code",
   "execution_count": 23,
   "id": "003c89fc-9f94-4f43-9520-4b503ee0b8ec",
   "metadata": {},
   "outputs": [
    {
     "name": "stdout",
     "output_type": "stream",
     "text": [
      "  best_feature  best_accuracy\n",
      "0          age         0.6867\n"
     ]
    }
   ],
   "source": [
    "print(best_feature_df)"
   ]
  }
 ],
 "metadata": {
  "kernelspec": {
   "display_name": "Python 3 (ipykernel)",
   "language": "python",
   "name": "python3"
  },
  "language_info": {
   "codemirror_mode": {
    "name": "ipython",
    "version": 3
   },
   "file_extension": ".py",
   "mimetype": "text/x-python",
   "name": "python",
   "nbconvert_exporter": "python",
   "pygments_lexer": "ipython3",
   "version": "3.11.7"
  }
 },
 "nbformat": 4,
 "nbformat_minor": 5
}
