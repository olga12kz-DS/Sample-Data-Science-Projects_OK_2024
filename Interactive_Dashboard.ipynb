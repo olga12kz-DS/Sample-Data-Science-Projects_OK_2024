{
 "cells": [
  {
   "cell_type": "markdown",
   "id": "63c711dd-aa51-4758-9e06-3754c2421b8a",
   "metadata": {},
   "source": [
    "# DATA EXPLORATION: INTERACTIVE DASHBOARDS"
   ]
  },
  {
   "cell_type": "code",
   "execution_count": 1,
   "id": "503d7379-a2ec-4dd6-90d6-69f1a4ffa02c",
   "metadata": {},
   "outputs": [
    {
     "name": "stdout",
     "output_type": "stream",
     "text": [
      "   Unnamed: 0  Flight Number  Launch Site  class  Payload Mass (kg)  \\\n",
      "0           0              1  CCAFS LC-40      0                0.0   \n",
      "1           1              2  CCAFS LC-40      0                0.0   \n",
      "2           2              3  CCAFS LC-40      0              525.0   \n",
      "3           3              4  CCAFS LC-40      0              500.0   \n",
      "4           4              5  CCAFS LC-40      0              677.0   \n",
      "\n",
      "  Booster Version Booster Version Category  \n",
      "0  F9 v1.0  B0003                     v1.0  \n",
      "1  F9 v1.0  B0004                     v1.0  \n",
      "2  F9 v1.0  B0005                     v1.0  \n",
      "3  F9 v1.0  B0006                     v1.0  \n",
      "4  F9 v1.0  B0007                     v1.0  \n",
      "9600.0 0.0\n"
     ]
    }
   ],
   "source": [
    "# Import required libraries\n",
    "import pandas as pd\n",
    "import dash\n",
    "from dash import html, dcc\n",
    "from dash.dependencies import Input, Output\n",
    "import plotly.express as px\n",
    "\n",
    "# Read the airline data into pandas dataframe\n",
    "URL = \"https://cf-courses-data.s3.us.cloud-object-storage.appdomain.cloud/IBM-DS0321EN-SkillsNetwork/datasets/spacex_launch_dash.csv\"\n",
    "spacex_df = pd.read_csv(URL, header = 0)\n",
    "print(spacex_df.head())\n",
    "max_payload = spacex_df['Payload Mass (kg)'].max()\n",
    "min_payload = spacex_df['Payload Mass (kg)'].min()\n",
    "print(max_payload, min_payload)"
   ]
  },
  {
   "cell_type": "markdown",
   "id": "19d6ff3a-8cfe-48ed-821d-408b729a182d",
   "metadata": {},
   "source": [
    "#### Create an interactive dashboard."
   ]
  },
  {
   "cell_type": "code",
   "execution_count": 4,
   "id": "979bdfe1-16b0-47ba-ac41-278831b9966a",
   "metadata": {},
   "outputs": [
    {
     "data": {
      "text/html": [
       "\n",
       "        <iframe\n",
       "            width=\"100%\"\n",
       "            height=\"650\"\n",
       "            src=\"http://127.0.0.1:8051/\"\n",
       "            frameborder=\"0\"\n",
       "            allowfullscreen\n",
       "            \n",
       "        ></iframe>\n",
       "        "
      ],
      "text/plain": [
       "<IPython.lib.display.IFrame at 0x1cada375910>"
      ]
     },
     "metadata": {},
     "output_type": "display_data"
    }
   ],
   "source": [
    "# Create a dash application\n",
    "app = dash.Dash(__name__)\n",
    "\n",
    "options = ['ALL']\n",
    "options.extend(spacex_df['Launch Site'].unique())\n",
    "options = [{'label':'All Sites' if v == 'ALL' else v, 'value':v} for v in options]\n",
    "\n",
    "# Create an app layout\n",
    "app.layout = html.Div(children=[html.H1('SpaceX Launch Records Dashboard',\n",
    "                                        style={'textAlign': 'center', 'color': '#503D36',\n",
    "                                               'font-size': 40}),\n",
    "                                # Dropdown: launch Site selection.\n",
    "                                dcc.Dropdown(id='site-dropdown', placeholder='Select a Launch Site here',searchable=True,options=options),\n",
    "                                html.Br(),\n",
    "\n",
    "                                # Graph 1: Success rate by site. \n",
    "                                html.Div(dcc.Graph(id='success-pie-chart')),\n",
    "                                html.Br(),\n",
    "\n",
    "                                # Slider: payload mass. \n",
    "                                html.P(\"Payload range (Kg):\"),\n",
    "                                dcc.RangeSlider(id='payload-slider', min=min_payload, max=max_payload, step=int((max_payload-min_payload)/50), value=[min_payload, max_payload]),\n",
    "\n",
    "                                # Graph 2: Scatterplot of success rate by payload mass. \n",
    "                                html.Div(dcc.Graph(id='success-payload-scatter-chart')),\n",
    "                                ])\n",
    "\n",
    "# Callback function 1. \n",
    "@app.callback(Output(component_id='success-pie-chart', component_property='figure'),\n",
    "              Input(component_id='site-dropdown', component_property='value'))\n",
    "\n",
    "def get_pie_chart(entered_site):\n",
    "    if entered_site == 'ALL':\n",
    "        fig = px.pie(spacex_df, values='class', names='Launch Site', title='Success by Launch Site')\n",
    "    else:\n",
    "        # return the outcomes piechart for a selected site\n",
    "        filtered_df = spacex_df[spacex_df['Launch Site']==entered_site]['class'].value_counts().to_frame().reset_index()\n",
    "        #filtered_df['result'] = ['success' if v==1 else 'falied' for v in filtered_df['class'].values]\n",
    "        fig = px.pie(filtered_df, values='count', names='class', title='Success count'+ (' for '+entered_site) if entered_site else '')\n",
    "    return fig\n",
    "\n",
    "# Callback function 2. \n",
    "@app.callback(Output(component_id='success-payload-scatter-chart', component_property='figure'),\n",
    "              [Input(component_id='site-dropdown', component_property='value'),\n",
    "              Input(component_id=\"payload-slider\", component_property=\"value\")])\n",
    "\n",
    "def get_scatter_chart(entered_site, payload):\n",
    "\n",
    "    filtered_df = spacex_df[(spacex_df['Payload Mass (kg)']>=payload[0]) & (spacex_df['Payload Mass (kg)']<=payload[1])]\n",
    "    if entered_site == 'ALL':\n",
    "        fig = px.scatter(filtered_df, x='Payload Mass (kg)', y='class', title='Success by Payload Mass',color='Booster Version Category')\n",
    "    else:\n",
    "        # return the outcomes piechart for a selected site\n",
    "        filtered_df = filtered_df[filtered_df['Launch Site']==entered_site]\n",
    "        fig = px.scatter(filtered_df, x='Payload Mass (kg)', y='class', title='Success by Payload Mass for',color='Booster Version Category')\n",
    "    return fig\n",
    "\n",
    "# Run the app\n",
    "if __name__ == '__main__':\n",
    "    app.run_server(port = 8051)"
   ]
  },
  {
   "cell_type": "code",
   "execution_count": null,
   "id": "0f3a692b-4cd0-4abf-b996-67f0567499cf",
   "metadata": {},
   "outputs": [],
   "source": []
  }
 ],
 "metadata": {
  "kernelspec": {
   "display_name": "Python 3 (ipykernel)",
   "language": "python",
   "name": "python3"
  },
  "language_info": {
   "codemirror_mode": {
    "name": "ipython",
    "version": 3
   },
   "file_extension": ".py",
   "mimetype": "text/x-python",
   "name": "python",
   "nbconvert_exporter": "python",
   "pygments_lexer": "ipython3",
   "version": "3.11.7"
  }
 },
 "nbformat": 4,
 "nbformat_minor": 5
}
