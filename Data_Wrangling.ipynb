{
 "cells": [
  {
   "cell_type": "markdown",
   "id": "f8ea06d0-f89b-4eba-bc36-1b97935c6fd2",
   "metadata": {},
   "source": [
    "# DATA WRANGLING"
   ]
  },
  {
   "cell_type": "code",
   "execution_count": 1,
   "id": "a7815643-5948-4130-9a3a-117c718ff65d",
   "metadata": {},
   "outputs": [],
   "source": [
    "#### Import required libraries\n",
    "import pandas as pd\n",
    "import numpy as np"
   ]
  },
  {
   "cell_type": "code",
   "execution_count": 18,
   "id": "d03dfa8b-32e9-4b8f-8382-8f80e58915bc",
   "metadata": {},
   "outputs": [
    {
     "name": "stdout",
     "output_type": "stream",
     "text": [
      "   FlightNumber        Date BoosterVersion  PayloadMass Orbit    LaunchSite  \\\n",
      "0             1  2010-06-04       Falcon 9  6104.959412   LEO  CCAFS SLC 40   \n",
      "1             2  2012-05-22       Falcon 9   525.000000   LEO  CCAFS SLC 40   \n",
      "2             3  2013-03-01       Falcon 9   677.000000   ISS  CCAFS SLC 40   \n",
      "3             4  2013-09-29       Falcon 9   500.000000    PO   VAFB SLC 4E   \n",
      "4             5  2013-12-03       Falcon 9  3170.000000   GTO  CCAFS SLC 40   \n",
      "5             6  2014-01-06       Falcon 9  3325.000000   GTO  CCAFS SLC 40   \n",
      "6             7  2014-04-18       Falcon 9  2296.000000   ISS  CCAFS SLC 40   \n",
      "7             8  2014-07-14       Falcon 9  1316.000000   LEO  CCAFS SLC 40   \n",
      "8             9  2014-08-05       Falcon 9  4535.000000   GTO  CCAFS SLC 40   \n",
      "9            10  2014-09-07       Falcon 9  4428.000000   GTO  CCAFS SLC 40   \n",
      "\n",
      "       Outcome  Flights  GridFins  Reused   Legs LandingPad  Block  \\\n",
      "0    None None        1     False   False  False        NaN    1.0   \n",
      "1    None None        1     False   False  False        NaN    1.0   \n",
      "2    None None        1     False   False  False        NaN    1.0   \n",
      "3  False Ocean        1     False   False  False        NaN    1.0   \n",
      "4    None None        1     False   False  False        NaN    1.0   \n",
      "5    None None        1     False   False  False        NaN    1.0   \n",
      "6   True Ocean        1     False   False   True        NaN    1.0   \n",
      "7   True Ocean        1     False   False   True        NaN    1.0   \n",
      "8    None None        1     False   False  False        NaN    1.0   \n",
      "9    None None        1     False   False  False        NaN    1.0   \n",
      "\n",
      "   ReusedCount Serial   Longitude   Latitude  \n",
      "0            0  B0003  -80.577366  28.561857  \n",
      "1            0  B0005  -80.577366  28.561857  \n",
      "2            0  B0007  -80.577366  28.561857  \n",
      "3            0  B1003 -120.610829  34.632093  \n",
      "4            0  B1004  -80.577366  28.561857  \n",
      "5            0  B1005  -80.577366  28.561857  \n",
      "6            0  B1006  -80.577366  28.561857  \n",
      "7            0  B1007  -80.577366  28.561857  \n",
      "8            0  B1008  -80.577366  28.561857  \n",
      "9            0  B1011  -80.577366  28.561857  \n",
      "<class 'pandas.core.frame.DataFrame'>\n",
      "RangeIndex: 90 entries, 0 to 89\n",
      "Data columns (total 17 columns):\n",
      " #   Column          Non-Null Count  Dtype  \n",
      "---  ------          --------------  -----  \n",
      " 0   FlightNumber    90 non-null     int64  \n",
      " 1   Date            90 non-null     object \n",
      " 2   BoosterVersion  90 non-null     object \n",
      " 3   PayloadMass     90 non-null     float64\n",
      " 4   Orbit           90 non-null     object \n",
      " 5   LaunchSite      90 non-null     object \n",
      " 6   Outcome         90 non-null     object \n",
      " 7   Flights         90 non-null     int64  \n",
      " 8   GridFins        90 non-null     bool   \n",
      " 9   Reused          90 non-null     bool   \n",
      " 10  Legs            90 non-null     bool   \n",
      " 11  LandingPad      64 non-null     object \n",
      " 12  Block           90 non-null     float64\n",
      " 13  ReusedCount     90 non-null     int64  \n",
      " 14  Serial          90 non-null     object \n",
      " 15  Longitude       90 non-null     float64\n",
      " 16  Latitude        90 non-null     float64\n",
      "dtypes: bool(3), float64(4), int64(3), object(7)\n",
      "memory usage: 10.2+ KB\n",
      "None\n"
     ]
    }
   ],
   "source": [
    "df=pd.read_csv(\"https://cf-courses-data.s3.us.cloud-object-storage.appdomain.cloud/IBM-DS0321EN-SkillsNetwork/datasets/dataset_part_1.csv\")\n",
    "print(df.head(10))\n",
    "print(df.info())"
   ]
  },
  {
   "cell_type": "code",
   "execution_count": 3,
   "id": "2ef1bf70-93b2-47a6-bf1a-5850af86b688",
   "metadata": {},
   "outputs": [
    {
     "data": {
      "text/plain": [
       "FlightNumber       0.000000\n",
       "Date               0.000000\n",
       "BoosterVersion     0.000000\n",
       "PayloadMass        0.000000\n",
       "Orbit              0.000000\n",
       "LaunchSite         0.000000\n",
       "Outcome            0.000000\n",
       "Flights            0.000000\n",
       "GridFins           0.000000\n",
       "Reused             0.000000\n",
       "Legs               0.000000\n",
       "LandingPad        28.888889\n",
       "Block              0.000000\n",
       "ReusedCount        0.000000\n",
       "Serial             0.000000\n",
       "Longitude          0.000000\n",
       "Latitude           0.000000\n",
       "dtype: float64"
      ]
     },
     "execution_count": 3,
     "metadata": {},
     "output_type": "execute_result"
    }
   ],
   "source": [
    "# Missing values of percentage\n",
    "df.isnull().sum()/len(df)*100"
   ]
  },
  {
   "cell_type": "code",
   "execution_count": 5,
   "id": "eb333d11-14a7-4b3b-b68d-feb11135058d",
   "metadata": {},
   "outputs": [
    {
     "data": {
      "text/plain": [
       "FlightNumber        int64\n",
       "Date               object\n",
       "BoosterVersion     object\n",
       "PayloadMass       float64\n",
       "Orbit              object\n",
       "LaunchSite         object\n",
       "Outcome            object\n",
       "Flights             int64\n",
       "GridFins             bool\n",
       "Reused               bool\n",
       "Legs                 bool\n",
       "LandingPad         object\n",
       "Block             float64\n",
       "ReusedCount         int64\n",
       "Serial             object\n",
       "Longitude         float64\n",
       "Latitude          float64\n",
       "dtype: object"
      ]
     },
     "execution_count": 5,
     "metadata": {},
     "output_type": "execute_result"
    }
   ],
   "source": [
    "# Data types\n",
    "df.dtypes"
   ]
  },
  {
   "cell_type": "code",
   "execution_count": 6,
   "id": "793f6ab9-b5d6-49ef-ac23-333044f13d21",
   "metadata": {},
   "outputs": [
    {
     "data": {
      "text/plain": [
       "LaunchSite\n",
       "CCAFS SLC 40    55\n",
       "KSC LC 39A      22\n",
       "VAFB SLC 4E     13\n",
       "Name: count, dtype: int64"
      ]
     },
     "execution_count": 6,
     "metadata": {},
     "output_type": "execute_result"
    }
   ],
   "source": [
    "# Launch sites\n",
    "df[\"LaunchSite\"].value_counts()"
   ]
  },
  {
   "cell_type": "code",
   "execution_count": 7,
   "id": "f1314de2-8635-4c0a-befa-825f645943d3",
   "metadata": {},
   "outputs": [
    {
     "data": {
      "text/plain": [
       "Orbit\n",
       "GTO      27\n",
       "ISS      21\n",
       "VLEO     14\n",
       "PO        9\n",
       "LEO       7\n",
       "SSO       5\n",
       "MEO       3\n",
       "ES-L1     1\n",
       "HEO       1\n",
       "SO        1\n",
       "GEO       1\n",
       "Name: count, dtype: int64"
      ]
     },
     "execution_count": 7,
     "metadata": {},
     "output_type": "execute_result"
    }
   ],
   "source": [
    "# Orbit targets\n",
    "df[\"Orbit\"].value_counts()"
   ]
  },
  {
   "cell_type": "code",
   "execution_count": 9,
   "id": "310633a8-e443-403c-a835-301b1cc79104",
   "metadata": {},
   "outputs": [
    {
     "name": "stdout",
     "output_type": "stream",
     "text": [
      "Outcome\n",
      "True ASDS      41\n",
      "None None      19\n",
      "True RTLS      14\n",
      "False ASDS      6\n",
      "True Ocean      5\n",
      "False Ocean     2\n",
      "None ASDS       2\n",
      "False RTLS      1\n",
      "Name: count, dtype: int64\n",
      "<class 'pandas.core.series.Series'>\n"
     ]
    }
   ],
   "source": [
    "# Outcomes\n",
    "landing_outcomes = df[\"Outcome\"].value_counts()\n",
    "print(landing_outcomes)\n",
    "print(type(landing_outcomes))"
   ]
  },
  {
   "cell_type": "code",
   "execution_count": 11,
   "id": "184366b8-148b-4796-862f-89cb0a90d734",
   "metadata": {},
   "outputs": [
    {
     "name": "stdout",
     "output_type": "stream",
     "text": [
      "0 True ASDS\n",
      "1 None None\n",
      "2 True RTLS\n",
      "3 False ASDS\n",
      "4 True Ocean\n",
      "5 False Ocean\n",
      "6 None ASDS\n",
      "7 False RTLS\n"
     ]
    }
   ],
   "source": [
    "for i, outcome in enumerate(landing_outcomes.keys()):\n",
    "    print(i, outcome)"
   ]
  },
  {
   "cell_type": "code",
   "execution_count": 13,
   "id": "e4faf7f3-4e27-47ca-8527-70097ef7f545",
   "metadata": {},
   "outputs": [
    {
     "name": "stdout",
     "output_type": "stream",
     "text": [
      "{'False RTLS', 'None ASDS', 'None None', 'False Ocean', 'False ASDS'}\n",
      "<class 'set'>\n"
     ]
    }
   ],
   "source": [
    "# Set of outcomes, unsuccessful landing type\n",
    "bad_outcomes=set(landing_outcomes.keys()[[1,3,5,6,7]])\n",
    "print(bad_outcomes)\n",
    "print(type(bad_outcomes))"
   ]
  },
  {
   "cell_type": "code",
   "execution_count": 17,
   "id": "5c5ae82c-8efb-4fa9-ba8f-efa49a08323d",
   "metadata": {},
   "outputs": [
    {
     "name": "stdout",
     "output_type": "stream",
     "text": [
      "1\n",
      "19\n",
      "2\n",
      "2\n",
      "6\n"
     ]
    }
   ],
   "source": [
    "false_rtls = df[df[\"Outcome\"] == \"False RTLS\"]\n",
    "print(len(false_rtls))\n",
    "\n",
    "none_none = df[df[\"Outcome\"] == \"None None\"]\n",
    "print(len(none_none))\n",
    "\n",
    "none_asds = df[df[\"Outcome\"] == \"None ASDS\"]\n",
    "print(len(none_asds))\n",
    "\n",
    "false_ocean = df[df[\"Outcome\"] == \"False Ocean\"]\n",
    "print(len(false_ocean))\n",
    "\n",
    "false_asds = df[df[\"Outcome\"] == \"False ASDS\"]\n",
    "print(len(false_asds))"
   ]
  },
  {
   "cell_type": "code",
   "execution_count": null,
   "id": "2cc8046f-fea4-41cb-9839-2fad21c7999c",
   "metadata": {},
   "outputs": [],
   "source": [
    "n_bad_outcomes = 30\n",
    "n_good_outcomes = 60"
   ]
  },
  {
   "cell_type": "code",
   "execution_count": null,
   "id": "2ebb7324-3038-40f3-919d-61c4434d9723",
   "metadata": {},
   "outputs": [],
   "source": [
    "# df['Class']=landing_class\n",
    "# df[['Class']].head(8)\n",
    "# df[\"Class\"].mean()\n",
    "# df.to_csv(\"dataset_part_2.csv\", index=False)\n",
    "# df.to_csv(\"dataset_part_2.csv\", index=False)"
   ]
  }
 ],
 "metadata": {
  "kernelspec": {
   "display_name": "Python 3 (ipykernel)",
   "language": "python",
   "name": "python3"
  },
  "language_info": {
   "codemirror_mode": {
    "name": "ipython",
    "version": 3
   },
   "file_extension": ".py",
   "mimetype": "text/x-python",
   "name": "python",
   "nbconvert_exporter": "python",
   "pygments_lexer": "ipython3",
   "version": "3.11.7"
  }
 },
 "nbformat": 4,
 "nbformat_minor": 5
}
