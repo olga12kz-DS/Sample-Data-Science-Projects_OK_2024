{
 "cells": [
  {
   "cell_type": "markdown",
   "id": "06ff5e7f-6ecb-4484-8d4c-d6909fdc31d2",
   "metadata": {},
   "source": [
    "# Solution for Lasso Regression, DecisionTreeRegressor, RandomForestRegressor\n",
    "## Problem Statement:\n",
    "A DVD rental company needs your help! They want to figure out how many days a customer will rent a DVD for based on some features and has approached you for help. They want you to try out some regression models which will help predict the number of days a customer will rent a DVD for. The company wants a model which yeilds a MSE of 3 or less on a test set. The model you make will help the company become more efficient inventory planning.\n",
    "\n",
    "## Results\n",
    "The best model is the tuned random forest model which shows the least MSE (mean squared error) of 2.23."
   ]
  },
  {
   "cell_type": "markdown",
   "id": "143e44d5-fdb6-4e68-ac3f-425d0170ff7c",
   "metadata": {},
   "source": [
    "# CODE"
   ]
  },
  {
   "cell_type": "code",
   "execution_count": 5,
   "id": "865be271-65b2-49d7-9b1d-51ff48d6769e",
   "metadata": {},
   "outputs": [],
   "source": [
    "# Import required packages\n",
    "import pandas as pd\n",
    "import numpy as np\n",
    "\n",
    "from sklearn.preprocessing import StandardScaler\n",
    "from sklearn.model_selection import train_test_split\n",
    "from sklearn.linear_model import Lasso\n",
    "from sklearn.linear_model import LinearRegression\n",
    "from sklearn.tree import DecisionTreeRegressor\n",
    "from sklearn.ensemble import RandomForestRegressor\n",
    "from sklearn.model_selection import RandomizedSearchCV\n",
    "from sklearn.metrics import mean_squared_error"
   ]
  },
  {
   "cell_type": "code",
   "execution_count": 6,
   "id": "af07c9ab-6279-48fe-8afc-19ece69ff7d3",
   "metadata": {},
   "outputs": [
    {
     "data": {
      "text/plain": [
       "'C:\\\\Users\\\\OK'"
      ]
     },
     "execution_count": 6,
     "metadata": {},
     "output_type": "execute_result"
    }
   ],
   "source": [
    "pwd"
   ]
  },
  {
   "cell_type": "code",
   "execution_count": 7,
   "id": "63c70d9a-a89a-490d-af73-b48660d36d85",
   "metadata": {},
   "outputs": [
    {
     "name": "stdout",
     "output_type": "stream",
     "text": [
      "<class 'pandas.core.frame.DataFrame'>\n",
      "RangeIndex: 15861 entries, 0 to 15860\n",
      "Data columns (total 15 columns):\n",
      " #   Column            Non-Null Count  Dtype  \n",
      "---  ------            --------------  -----  \n",
      " 0   rental_date       15861 non-null  object \n",
      " 1   return_date       15861 non-null  object \n",
      " 2   amount            15861 non-null  float64\n",
      " 3   release_year      15861 non-null  float64\n",
      " 4   rental_rate       15861 non-null  float64\n",
      " 5   length            15861 non-null  float64\n",
      " 6   replacement_cost  15861 non-null  float64\n",
      " 7   special_features  15861 non-null  object \n",
      " 8   NC-17             15861 non-null  int64  \n",
      " 9   PG                15861 non-null  int64  \n",
      " 10  PG-13             15861 non-null  int64  \n",
      " 11  R                 15861 non-null  int64  \n",
      " 12  amount_2          15861 non-null  float64\n",
      " 13  length_2          15861 non-null  float64\n",
      " 14  rental_rate_2     15861 non-null  float64\n",
      "dtypes: float64(8), int64(4), object(3)\n",
      "memory usage: 1.8+ MB\n"
     ]
    },
    {
     "data": {
      "text/html": [
       "<div>\n",
       "<style scoped>\n",
       "    .dataframe tbody tr th:only-of-type {\n",
       "        vertical-align: middle;\n",
       "    }\n",
       "\n",
       "    .dataframe tbody tr th {\n",
       "        vertical-align: top;\n",
       "    }\n",
       "\n",
       "    .dataframe thead th {\n",
       "        text-align: right;\n",
       "    }\n",
       "</style>\n",
       "<table border=\"1\" class=\"dataframe\">\n",
       "  <thead>\n",
       "    <tr style=\"text-align: right;\">\n",
       "      <th></th>\n",
       "      <th>rental_date</th>\n",
       "      <th>return_date</th>\n",
       "      <th>amount</th>\n",
       "      <th>release_year</th>\n",
       "      <th>rental_rate</th>\n",
       "      <th>length</th>\n",
       "      <th>replacement_cost</th>\n",
       "      <th>special_features</th>\n",
       "      <th>NC-17</th>\n",
       "      <th>PG</th>\n",
       "      <th>PG-13</th>\n",
       "      <th>R</th>\n",
       "      <th>amount_2</th>\n",
       "      <th>length_2</th>\n",
       "      <th>rental_rate_2</th>\n",
       "    </tr>\n",
       "  </thead>\n",
       "  <tbody>\n",
       "    <tr>\n",
       "      <th>0</th>\n",
       "      <td>2005-05-25 02:54:33+00:00</td>\n",
       "      <td>2005-05-28 23:40:33+00:00</td>\n",
       "      <td>2.99</td>\n",
       "      <td>2005.0</td>\n",
       "      <td>2.99</td>\n",
       "      <td>126.0</td>\n",
       "      <td>16.99</td>\n",
       "      <td>{Trailers,\"Behind the Scenes\"}</td>\n",
       "      <td>0</td>\n",
       "      <td>0</td>\n",
       "      <td>0</td>\n",
       "      <td>1</td>\n",
       "      <td>8.9401</td>\n",
       "      <td>15876.0</td>\n",
       "      <td>8.9401</td>\n",
       "    </tr>\n",
       "    <tr>\n",
       "      <th>1</th>\n",
       "      <td>2005-06-15 23:19:16+00:00</td>\n",
       "      <td>2005-06-18 19:24:16+00:00</td>\n",
       "      <td>2.99</td>\n",
       "      <td>2005.0</td>\n",
       "      <td>2.99</td>\n",
       "      <td>126.0</td>\n",
       "      <td>16.99</td>\n",
       "      <td>{Trailers,\"Behind the Scenes\"}</td>\n",
       "      <td>0</td>\n",
       "      <td>0</td>\n",
       "      <td>0</td>\n",
       "      <td>1</td>\n",
       "      <td>8.9401</td>\n",
       "      <td>15876.0</td>\n",
       "      <td>8.9401</td>\n",
       "    </tr>\n",
       "    <tr>\n",
       "      <th>2</th>\n",
       "      <td>2005-07-10 04:27:45+00:00</td>\n",
       "      <td>2005-07-17 10:11:45+00:00</td>\n",
       "      <td>2.99</td>\n",
       "      <td>2005.0</td>\n",
       "      <td>2.99</td>\n",
       "      <td>126.0</td>\n",
       "      <td>16.99</td>\n",
       "      <td>{Trailers,\"Behind the Scenes\"}</td>\n",
       "      <td>0</td>\n",
       "      <td>0</td>\n",
       "      <td>0</td>\n",
       "      <td>1</td>\n",
       "      <td>8.9401</td>\n",
       "      <td>15876.0</td>\n",
       "      <td>8.9401</td>\n",
       "    </tr>\n",
       "    <tr>\n",
       "      <th>3</th>\n",
       "      <td>2005-07-31 12:06:41+00:00</td>\n",
       "      <td>2005-08-02 14:30:41+00:00</td>\n",
       "      <td>2.99</td>\n",
       "      <td>2005.0</td>\n",
       "      <td>2.99</td>\n",
       "      <td>126.0</td>\n",
       "      <td>16.99</td>\n",
       "      <td>{Trailers,\"Behind the Scenes\"}</td>\n",
       "      <td>0</td>\n",
       "      <td>0</td>\n",
       "      <td>0</td>\n",
       "      <td>1</td>\n",
       "      <td>8.9401</td>\n",
       "      <td>15876.0</td>\n",
       "      <td>8.9401</td>\n",
       "    </tr>\n",
       "    <tr>\n",
       "      <th>4</th>\n",
       "      <td>2005-08-19 12:30:04+00:00</td>\n",
       "      <td>2005-08-23 13:35:04+00:00</td>\n",
       "      <td>2.99</td>\n",
       "      <td>2005.0</td>\n",
       "      <td>2.99</td>\n",
       "      <td>126.0</td>\n",
       "      <td>16.99</td>\n",
       "      <td>{Trailers,\"Behind the Scenes\"}</td>\n",
       "      <td>0</td>\n",
       "      <td>0</td>\n",
       "      <td>0</td>\n",
       "      <td>1</td>\n",
       "      <td>8.9401</td>\n",
       "      <td>15876.0</td>\n",
       "      <td>8.9401</td>\n",
       "    </tr>\n",
       "  </tbody>\n",
       "</table>\n",
       "</div>"
      ],
      "text/plain": [
       "                 rental_date                return_date  amount  release_year  \\\n",
       "0  2005-05-25 02:54:33+00:00  2005-05-28 23:40:33+00:00    2.99        2005.0   \n",
       "1  2005-06-15 23:19:16+00:00  2005-06-18 19:24:16+00:00    2.99        2005.0   \n",
       "2  2005-07-10 04:27:45+00:00  2005-07-17 10:11:45+00:00    2.99        2005.0   \n",
       "3  2005-07-31 12:06:41+00:00  2005-08-02 14:30:41+00:00    2.99        2005.0   \n",
       "4  2005-08-19 12:30:04+00:00  2005-08-23 13:35:04+00:00    2.99        2005.0   \n",
       "\n",
       "   rental_rate  length  replacement_cost                special_features  \\\n",
       "0         2.99   126.0             16.99  {Trailers,\"Behind the Scenes\"}   \n",
       "1         2.99   126.0             16.99  {Trailers,\"Behind the Scenes\"}   \n",
       "2         2.99   126.0             16.99  {Trailers,\"Behind the Scenes\"}   \n",
       "3         2.99   126.0             16.99  {Trailers,\"Behind the Scenes\"}   \n",
       "4         2.99   126.0             16.99  {Trailers,\"Behind the Scenes\"}   \n",
       "\n",
       "   NC-17  PG  PG-13  R  amount_2  length_2  rental_rate_2  \n",
       "0      0   0      0  1    8.9401   15876.0         8.9401  \n",
       "1      0   0      0  1    8.9401   15876.0         8.9401  \n",
       "2      0   0      0  1    8.9401   15876.0         8.9401  \n",
       "3      0   0      0  1    8.9401   15876.0         8.9401  \n",
       "4      0   0      0  1    8.9401   15876.0         8.9401  "
      ]
     },
     "execution_count": 7,
     "metadata": {},
     "output_type": "execute_result"
    }
   ],
   "source": [
    "# Import and explore data\n",
    "# Read in the csv file \n",
    "rentals_df = pd.read_csv(r\"C:\\Users\\OK\\Documents\\Self\\I know Python\\rental_info.csv\")\n",
    "rentals_df.info()\n",
    "rentals_df.head()"
   ]
  },
  {
   "cell_type": "code",
   "execution_count": 8,
   "id": "f21e0275-f1d8-4a83-8c1e-e769078a299c",
   "metadata": {},
   "outputs": [],
   "source": [
    "# Clean the data\n",
    "## # Calculate rent duration in days\n",
    "rentals_df[\"rental_length\"] = pd.to_datetime(rentals_df[\"return_date\"]) - pd.to_datetime(rentals_df[\"rental_date\"])\n",
    "rentals_df[\"rental_length_days\"] = rentals_df[\"rental_length\"].dt.days"
   ]
  },
  {
   "cell_type": "code",
   "execution_count": 9,
   "id": "0951f10a-2f85-4e95-81bd-8dc401197e18",
   "metadata": {},
   "outputs": [
    {
     "name": "stdout",
     "output_type": "stream",
     "text": [
      "<class 'pandas.core.frame.DataFrame'>\n",
      "RangeIndex: 15861 entries, 0 to 15860\n",
      "Data columns (total 19 columns):\n",
      " #   Column              Non-Null Count  Dtype          \n",
      "---  ------              --------------  -----          \n",
      " 0   rental_date         15861 non-null  object         \n",
      " 1   return_date         15861 non-null  object         \n",
      " 2   amount              15861 non-null  float64        \n",
      " 3   release_year        15861 non-null  float64        \n",
      " 4   rental_rate         15861 non-null  float64        \n",
      " 5   length              15861 non-null  float64        \n",
      " 6   replacement_cost    15861 non-null  float64        \n",
      " 7   special_features    15861 non-null  object         \n",
      " 8   NC-17               15861 non-null  int64          \n",
      " 9   PG                  15861 non-null  int64          \n",
      " 10  PG-13               15861 non-null  int64          \n",
      " 11  R                   15861 non-null  int64          \n",
      " 12  amount_2            15861 non-null  float64        \n",
      " 13  length_2            15861 non-null  float64        \n",
      " 14  rental_rate_2       15861 non-null  float64        \n",
      " 15  rental_length       15861 non-null  timedelta64[ns]\n",
      " 16  rental_length_days  15861 non-null  int64          \n",
      " 17  deleted_scenes      15861 non-null  int32          \n",
      " 18  behind_the_scenes   15861 non-null  int32          \n",
      "dtypes: float64(8), int32(2), int64(5), object(3), timedelta64[ns](1)\n",
      "memory usage: 2.2+ MB\n"
     ]
    }
   ],
   "source": [
    "# Preprocess the data\n",
    "# Create dummy variables for \"special_features\" - \"Deleted Scenes\",\"Behind the Scenes\" levels\n",
    "rentals_df[\"special_features\"].unique()\n",
    "rentals_df[\"deleted_scenes\"] = np.where(rentals_df[\"special_features\"].str.contains(\"Deleted Scenes\"), 1, 0)\n",
    "rentals_df[\"behind_the_scenes\"] = np.where(rentals_df[\"special_features\"].str.contains(\"Behind the Scenes\"), 1, 0)\n",
    "rentals_df.head()\n",
    "rentals_df.info()"
   ]
  },
  {
   "cell_type": "code",
   "execution_count": 10,
   "id": "a91b8f4d-2386-40d3-807f-87d187328f18",
   "metadata": {},
   "outputs": [],
   "source": [
    "# Perform Train-test split, avoiding columns that leak data about the target.\n",
    "leak_cols = [\"special_features\", \"rental_length\", \"rental_length_days\", \"rental_date\", \"return_date\"]\n",
    "X = rentals_df.drop(leak_cols, axis=1)\n",
    "y = rentals_df[\"rental_length_days\"]\n",
    "X_train,X_test,y_train,y_test = train_test_split(X, y, test_size=0.2, random_state=9)"
   ]
  },
  {
   "cell_type": "code",
   "execution_count": 11,
   "id": "d57d8ad0-bafb-4d42-a9ac-7d8150c77983",
   "metadata": {},
   "outputs": [
    {
     "name": "stdout",
     "output_type": "stream",
     "text": [
      "[ 5.84104424e-01  0.00000000e+00 -0.00000000e+00  0.00000000e+00\n",
      " -0.00000000e+00  0.00000000e+00  0.00000000e+00  0.00000000e+00\n",
      " -0.00000000e+00  4.36220109e-02  3.01167812e-06 -1.52983561e-01\n",
      " -0.00000000e+00  0.00000000e+00]\n"
     ]
    }
   ],
   "source": [
    "# Perform Lasso Regression\n",
    "## Instantiate a lasso regression model\n",
    "model_lasso = Lasso(alpha=0.3, random_state=9)\n",
    "model_lasso.fit(X_train, y_train)\n",
    "## Extract coefficients\n",
    "lasso_coef = model_lasso.coef_\n",
    "print(lasso_coef)\n",
    "## Get coefficients above zero\n",
    "X_lasso_train, X_lasso_test = X_train.iloc[:, lasso_coef > 0], X_test.iloc[:, lasso_coef > 0]"
   ]
  },
  {
   "cell_type": "code",
   "execution_count": 12,
   "id": "465c41c0-8636-47c2-a76b-52435db185a9",
   "metadata": {},
   "outputs": [
    {
     "name": "stdout",
     "output_type": "stream",
     "text": [
      "Test set MSE of lr_model: 2.94\n"
     ]
    }
   ],
   "source": [
    "# Comparison: Linear Regression model\n",
    "lr_model = LinearRegression()\n",
    "lr_model_fit = lr_model.fit(X_train, y_train)\n",
    "y_lr_pred = lr_model_fit.predict(X_test)\n",
    "mse_lr_lasso = mean_squared_error(y_test, y_lr_pred)\n",
    "print('Test set MSE of lr_model: {:.2f}'.format(mse_lr_lasso)) # 2.94 for lr"
   ]
  },
  {
   "cell_type": "code",
   "execution_count": 13,
   "id": "f6be2303-e232-4e9a-b4ef-1217d98a8b95",
   "metadata": {},
   "outputs": [
    {
     "name": "stdout",
     "output_type": "stream",
     "text": [
      "Test set MSE of dt_model: 3.32\n"
     ]
    }
   ],
   "source": [
    "# Comparison: DecisionTreeRegressor model\n",
    "dt_model = DecisionTreeRegressor(max_depth=8,\n",
    "            min_samples_leaf=0.13,\n",
    "            random_state=3)\n",
    "dt_model.fit(X_train, y_train)\n",
    "y_dt_pred = dt_model.predict(X_test)\n",
    "mse_dt_lasso = mean_squared_error(y_test, y_dt_pred)\n",
    "print(\"Test set MSE of dt_model: {:.2f}\".format(mse_dt_lasso)) # 3.32"
   ]
  },
  {
   "cell_type": "code",
   "execution_count": 14,
   "id": "fc7b049d-64c2-46e2-8f6c-cd2ffd083260",
   "metadata": {},
   "outputs": [
    {
     "name": "stdout",
     "output_type": "stream",
     "text": [
      "Test set MSE of rf_tuned_model: 2.23\n"
     ]
    }
   ],
   "source": [
    "## Comparison: RandomForestRegressor with hyperparameter tuning\n",
    "### Discover the number of estimators\n",
    "rf_param_distr = {\"n_estimators\": np.arange(1, 101, 1),\n",
    "                 \"max_depth\": np.arange(1,11,1)}\n",
    "rf_model = RandomForestRegressor()\n",
    "### Gather hyperparameters by \n",
    "rand_search = RandomizedSearchCV(rf_model, param_distributions = rf_param_distr, cv = 5, random_state = 9)\n",
    "rand_search.fit(X_train, y_train)\n",
    "hyper_params = rand_search.best_params_\n",
    "rf_tuned_model = RandomForestRegressor(n_estimators = hyper_params[\"n_estimators\"], max_depth = hyper_params[\"max_depth\"], random_state=9)\n",
    "rf_tuned_model.fit(X_train, y_train)\n",
    "y_rf_tuned_pred = rf_tuned_model.predict(X_test)\n",
    "mse_rf_tuned_lasso = mean_squared_error(y_test, y_rf_tuned_pred)\n",
    "print(\"Test set MSE of rf_tuned_model: {:.2f}\".format(mse_rf_tuned_lasso)) # 2.23"
   ]
  },
  {
   "cell_type": "code",
   "execution_count": 22,
   "id": "7fe51cf4-3298-410a-b3a5-07681496e821",
   "metadata": {},
   "outputs": [
    {
     "name": "stdout",
     "output_type": "stream",
     "text": [
      "tuned_RandomForest\n",
      "2.23\n"
     ]
    }
   ],
   "source": [
    "# Best performing model recommendation \n",
    "best_model = \"tuned_RandomForest\"\n",
    "best_mse = 2.23\n",
    "print(best_model)\n",
    "print(best_mse)"
   ]
  },
  {
   "cell_type": "code",
   "execution_count": null,
   "id": "8b78149d-4328-481b-b36f-7c627b54b09f",
   "metadata": {},
   "outputs": [],
   "source": []
  }
 ],
 "metadata": {
  "kernelspec": {
   "display_name": "Python 3 (ipykernel)",
   "language": "python",
   "name": "python3"
  },
  "language_info": {
   "codemirror_mode": {
    "name": "ipython",
    "version": 3
   },
   "file_extension": ".py",
   "mimetype": "text/x-python",
   "name": "python",
   "nbconvert_exporter": "python",
   "pygments_lexer": "ipython3",
   "version": "3.11.7"
  }
 },
 "nbformat": 4,
 "nbformat_minor": 5
}
