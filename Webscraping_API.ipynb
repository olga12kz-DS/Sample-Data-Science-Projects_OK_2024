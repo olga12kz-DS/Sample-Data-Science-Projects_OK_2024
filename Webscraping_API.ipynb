{
 "cells": [
  {
   "cell_type": "markdown",
   "id": "39ba2be8-262a-478c-8380-7b1faa6e8422",
   "metadata": {},
   "source": [
    "# Project: Webscraping and API process.\n",
    "\n",
    "Project Scenario:\r\n",
    "An international firm that is looking to expand its business in different countries across the world has recruited you. You have been hired as a junior Data Engineer and are tasked with creating a script that can extract the list of the top 10 largest economies of the world in descending order of their GDPs in Billion USD (rounded to 2 decimal places), as logged by the International Monetary Fund (IMF)\n",
    "\n",
    "**Project Results**:\n",
    "Please see the enclosed csv file with the following table:razil,2.08\n",
    "."
   ]
  },
  {
   "cell_type": "markdown",
   "id": "20f210b9-ffa4-4c49-97c4-d7f838047645",
   "metadata": {},
   "source": [
    "| Place | Country | GDP (USD Billions) |\r\n",
    "| --- | --- | --- \n",
    "| 1   | Unites States | 26.85 |\n",
    "| 2   | China         | 19.37 |\n",
    "| 3   | Japan         | 4.41  |\n",
    "| 4   | Germany       | 4.31  |\n",
    "| 5   | India         | 3.74  |\n",
    "| 6   | United Kingdom| 3.16  |\n",
    "| 7   | France        | 2. 92 |\n",
    "| 8   | Italy         | 2. 17 |\n",
    "| 9   | Canada        | 2. 09 |\n",
    "| 10  | Brazil        | 2. 08 || | | |\n"
   ]
  },
  {
   "cell_type": "code",
   "execution_count": 37,
   "id": "49bace57-abab-41ed-90ae-4493835d0e6b",
   "metadata": {},
   "outputs": [],
   "source": [
    "import numpy as np\n",
    "import pandas as pd"
   ]
  },
  {
   "cell_type": "code",
   "execution_count": 38,
   "id": "be4e5fff-6317-4c3e-9af1-818ea7597a1b",
   "metadata": {},
   "outputs": [],
   "source": [
    "# Data Source on Wikipedia\n",
    "URL=\"https://web.archive.org/web/20230902185326/https://en.wikipedia.org/wiki/List_of_countries_by_GDP_%28nominal%29\""
   ]
  },
  {
   "cell_type": "code",
   "execution_count": 39,
   "id": "eef1bc6b-778c-4a77-af7b-49f5f9e05178",
   "metadata": {},
   "outputs": [
    {
     "name": "stdout",
     "output_type": "stream",
     "text": [
      "    Country/Territory UN region IMF[1][13]            World Bank[14]  \\\n",
      "    Country/Territory UN region   Estimate       Year       Estimate   \n",
      "0               World         —  105568776       2023      100562011   \n",
      "1       United States  Americas   26854599       2023       25462700   \n",
      "2               China      Asia   19373586  [n 1]2023       17963171   \n",
      "3               Japan      Asia    4409738       2023        4231141   \n",
      "4             Germany    Europe    4308854       2023        4072192   \n",
      "..                ...       ...        ...        ...            ...   \n",
      "209          Anguilla  Americas          —          —              —   \n",
      "210          Kiribati   Oceania        248       2023            223   \n",
      "211             Nauru   Oceania        151       2023            151   \n",
      "212        Montserrat  Americas          —          —              —   \n",
      "213            Tuvalu   Oceania         65       2023             60   \n",
      "\n",
      "               United Nations[15]             \n",
      "          Year           Estimate       Year  \n",
      "0         2022           96698005       2021  \n",
      "1         2022           23315081       2021  \n",
      "2    [n 3]2022           17734131  [n 1]2021  \n",
      "3         2022            4940878       2021  \n",
      "4         2022            4259935       2021  \n",
      "..         ...                ...        ...  \n",
      "209          —                303       2021  \n",
      "210       2022                227       2021  \n",
      "211       2022                155       2021  \n",
      "212          —                 72       2021  \n",
      "213       2022                 60       2021  \n",
      "\n",
      "[214 rows x 8 columns]\n",
      "<class 'pandas.core.frame.DataFrame'>\n",
      "RangeIndex: 214 entries, 0 to 213\n",
      "Data columns (total 8 columns):\n",
      " #   Column                                  Non-Null Count  Dtype \n",
      "---  ------                                  --------------  ----- \n",
      " 0   (Country/Territory, Country/Territory)  214 non-null    object\n",
      " 1   (UN region, UN region)                  214 non-null    object\n",
      " 2   (IMF[1][13], Estimate)                  214 non-null    object\n",
      " 3   (IMF[1][13], Year)                      214 non-null    object\n",
      " 4   (World Bank[14], Estimate)              214 non-null    object\n",
      " 5   (World Bank[14], Year)                  214 non-null    object\n",
      " 6   (United Nations[15], Estimate)          214 non-null    object\n",
      " 7   (United Nations[15], Year)              214 non-null    object\n",
      "dtypes: object(8)\n",
      "memory usage: 13.5+ KB\n"
     ]
    }
   ],
   "source": [
    "# Extract tables from webpage and select table #3 as the required table. \n",
    "tables_all = pd.read_html(URL)\n",
    "df = tables_all[3]\n",
    "print(df)\n",
    "df.info() "
   ]
  },
  {
   "cell_type": "code",
   "execution_count": 40,
   "id": "5dc4c3f5-4e97-4aae-96c1-340baa74f6a5",
   "metadata": {},
   "outputs": [
    {
     "name": "stdout",
     "output_type": "stream",
     "text": [
      "                 0         1          2          3          4          5  \\\n",
      "0            World         —  105568776       2023  100562011       2022   \n",
      "1    United States  Americas   26854599       2023   25462700       2022   \n",
      "2            China      Asia   19373586  [n 1]2023   17963171  [n 3]2022   \n",
      "3            Japan      Asia    4409738       2023    4231141       2022   \n",
      "4          Germany    Europe    4308854       2023    4072192       2022   \n",
      "..             ...       ...        ...        ...        ...        ...   \n",
      "209       Anguilla  Americas          —          —          —          —   \n",
      "210       Kiribati   Oceania        248       2023        223       2022   \n",
      "211          Nauru   Oceania        151       2023        151       2022   \n",
      "212     Montserrat  Americas          —          —          —          —   \n",
      "213         Tuvalu   Oceania         65       2023         60       2022   \n",
      "\n",
      "            6          7  \n",
      "0    96698005       2021  \n",
      "1    23315081       2021  \n",
      "2    17734131  [n 1]2021  \n",
      "3     4940878       2021  \n",
      "4     4259935       2021  \n",
      "..        ...        ...  \n",
      "209       303       2021  \n",
      "210       227       2021  \n",
      "211       155       2021  \n",
      "212        72       2021  \n",
      "213        60       2021  \n",
      "\n",
      "[214 rows x 8 columns]\n",
      "<class 'pandas.core.frame.DataFrame'>\n",
      "RangeIndex: 214 entries, 0 to 213\n",
      "Data columns (total 8 columns):\n",
      " #   Column  Non-Null Count  Dtype \n",
      "---  ------  --------------  ----- \n",
      " 0   0       214 non-null    object\n",
      " 1   1       214 non-null    object\n",
      " 2   2       214 non-null    object\n",
      " 3   3       214 non-null    object\n",
      " 4   4       214 non-null    object\n",
      " 5   5       214 non-null    object\n",
      " 6   6       214 non-null    object\n",
      " 7   7       214 non-null    object\n",
      "dtypes: object(8)\n",
      "memory usage: 13.5+ KB\n"
     ]
    }
   ],
   "source": [
    "# Replace the column headers with column numbers\n",
    "df.columns = range(df.shape[1])\n",
    "print(df)\n",
    "df.info()"
   ]
  },
  {
   "cell_type": "code",
   "execution_count": 47,
   "id": "7c391919-cfff-404a-b436-39f20cdfed12",
   "metadata": {},
   "outputs": [
    {
     "data": {
      "text/html": [
       "<div>\n",
       "<style scoped>\n",
       "    .dataframe tbody tr th:only-of-type {\n",
       "        vertical-align: middle;\n",
       "    }\n",
       "\n",
       "    .dataframe tbody tr th {\n",
       "        vertical-align: top;\n",
       "    }\n",
       "\n",
       "    .dataframe thead th {\n",
       "        text-align: right;\n",
       "    }\n",
       "</style>\n",
       "<table border=\"1\" class=\"dataframe\">\n",
       "  <thead>\n",
       "    <tr style=\"text-align: right;\">\n",
       "      <th></th>\n",
       "      <th>0</th>\n",
       "      <th>2</th>\n",
       "    </tr>\n",
       "  </thead>\n",
       "  <tbody>\n",
       "    <tr>\n",
       "      <th>0</th>\n",
       "      <td>World</td>\n",
       "      <td>105568776</td>\n",
       "    </tr>\n",
       "    <tr>\n",
       "      <th>1</th>\n",
       "      <td>United States</td>\n",
       "      <td>26854599</td>\n",
       "    </tr>\n",
       "    <tr>\n",
       "      <th>2</th>\n",
       "      <td>China</td>\n",
       "      <td>19373586</td>\n",
       "    </tr>\n",
       "    <tr>\n",
       "      <th>3</th>\n",
       "      <td>Japan</td>\n",
       "      <td>4409738</td>\n",
       "    </tr>\n",
       "    <tr>\n",
       "      <th>4</th>\n",
       "      <td>Germany</td>\n",
       "      <td>4308854</td>\n",
       "    </tr>\n",
       "    <tr>\n",
       "      <th>5</th>\n",
       "      <td>India</td>\n",
       "      <td>3736882</td>\n",
       "    </tr>\n",
       "    <tr>\n",
       "      <th>6</th>\n",
       "      <td>United Kingdom</td>\n",
       "      <td>3158938</td>\n",
       "    </tr>\n",
       "    <tr>\n",
       "      <th>7</th>\n",
       "      <td>France</td>\n",
       "      <td>2923489</td>\n",
       "    </tr>\n",
       "    <tr>\n",
       "      <th>8</th>\n",
       "      <td>Italy</td>\n",
       "      <td>2169745</td>\n",
       "    </tr>\n",
       "    <tr>\n",
       "      <th>9</th>\n",
       "      <td>Canada</td>\n",
       "      <td>2089672</td>\n",
       "    </tr>\n",
       "    <tr>\n",
       "      <th>10</th>\n",
       "      <td>Brazil</td>\n",
       "      <td>2081235</td>\n",
       "    </tr>\n",
       "    <tr>\n",
       "      <th>11</th>\n",
       "      <td>Russia</td>\n",
       "      <td>2062649</td>\n",
       "    </tr>\n",
       "    <tr>\n",
       "      <th>12</th>\n",
       "      <td>South Korea</td>\n",
       "      <td>1721909</td>\n",
       "    </tr>\n",
       "    <tr>\n",
       "      <th>13</th>\n",
       "      <td>Australia</td>\n",
       "      <td>1707548</td>\n",
       "    </tr>\n",
       "    <tr>\n",
       "      <th>14</th>\n",
       "      <td>Mexico</td>\n",
       "      <td>1663164</td>\n",
       "    </tr>\n",
       "    <tr>\n",
       "      <th>15</th>\n",
       "      <td>Spain</td>\n",
       "      <td>1492432</td>\n",
       "    </tr>\n",
       "  </tbody>\n",
       "</table>\n",
       "</div>"
      ],
      "text/plain": [
       "                 0          2\n",
       "0            World  105568776\n",
       "1    United States   26854599\n",
       "2            China   19373586\n",
       "3            Japan    4409738\n",
       "4          Germany    4308854\n",
       "5            India    3736882\n",
       "6   United Kingdom    3158938\n",
       "7           France    2923489\n",
       "8            Italy    2169745\n",
       "9           Canada    2089672\n",
       "10          Brazil    2081235\n",
       "11          Russia    2062649\n",
       "12     South Korea    1721909\n",
       "13       Australia    1707548\n",
       "14          Mexico    1663164\n",
       "15           Spain    1492432"
      ]
     },
     "execution_count": 47,
     "metadata": {},
     "output_type": "execute_result"
    }
   ],
   "source": [
    "# Columns [0] and [2] are the needed information. NOTE: GDP is in USD Millions. \n",
    "df_info = df[[0, 2]]\n",
    "df_info.head(16)"
   ]
  },
  {
   "cell_type": "code",
   "execution_count": 42,
   "id": "bc493852-0c77-49d1-9710-06bffafe584a",
   "metadata": {},
   "outputs": [
    {
     "name": "stdout",
     "output_type": "stream",
     "text": [
      "                 0         2\n",
      "1    United States  26854599\n",
      "2            China  19373586\n",
      "3            Japan   4409738\n",
      "4          Germany   4308854\n",
      "5            India   3736882\n",
      "6   United Kingdom   3158938\n",
      "7           France   2923489\n",
      "8            Italy   2169745\n",
      "9           Canada   2089672\n",
      "10          Brazil   2081235\n"
     ]
    }
   ],
   "source": [
    "# Extract top 10 economies of the world (top 10 rows, [1:11], excluding the row for the world.\n",
    "df_info = df_info.iloc[1:11,:]\n",
    "print(df_info)"
   ]
  },
  {
   "cell_type": "code",
   "execution_count": 43,
   "id": "79ff9b83-7340-44e8-a994-7bda2644ff90",
   "metadata": {},
   "outputs": [
    {
     "name": "stdout",
     "output_type": "stream",
     "text": [
      "<class 'pandas.core.frame.DataFrame'>\n",
      "RangeIndex: 10 entries, 1 to 10\n",
      "Data columns (total 2 columns):\n",
      " #   Column              Non-Null Count  Dtype \n",
      "---  ------              --------------  ----- \n",
      " 0   Country             10 non-null     object\n",
      " 1   GDP (USD Billions)  10 non-null     object\n",
      "dtypes: object(2)\n",
      "memory usage: 292.0+ bytes\n"
     ]
    }
   ],
   "source": [
    "# Rename column names. \"Country\" and \"GDP (Million USD)\"\n",
    "df_info.columns = [\"Country\", \"GDP (USD Billions)\"]\n",
    "df_info.info()"
   ]
  },
  {
   "cell_type": "code",
   "execution_count": 44,
   "id": "ada10d72-a4e1-4b62-82d1-db1b1fd2c6b4",
   "metadata": {},
   "outputs": [
    {
     "name": "stdout",
     "output_type": "stream",
     "text": [
      "<class 'pandas.core.frame.DataFrame'>\n",
      "RangeIndex: 10 entries, 1 to 10\n",
      "Data columns (total 2 columns):\n",
      " #   Column              Non-Null Count  Dtype \n",
      "---  ------              --------------  ----- \n",
      " 0   Country             10 non-null     object\n",
      " 1   GDP (USD Billions)  10 non-null     int32 \n",
      "dtypes: int32(1), object(1)\n",
      "memory usage: 252.0+ bytes\n"
     ]
    }
   ],
   "source": [
    "# Convert \"GDP (USD Billions)\" column from object to integer. \n",
    "df_info[\"GDP (USD Billions)\"] = df_info[\"GDP (USD Billions)\"].astype(int)\n",
    "df_info.info()"
   ]
  },
  {
   "cell_type": "code",
   "execution_count": 45,
   "id": "c441a963-822e-4045-9784-4590698164a6",
   "metadata": {},
   "outputs": [],
   "source": [
    "# Convert USD Millions to Billions and round to 2 decimal places\n",
    "df_info[[\"GDP (USD Billions)\"]] = df_info[[\"GDP (USD Billions)\"]]/1000\n",
    "df_info[[\"GDP (USD Billions)\"]] = np.round(df_info[[\"GDP (USD Billions)\"]], 2)"
   ]
  },
  {
   "cell_type": "code",
   "execution_count": 46,
   "id": "bbf03a88-8026-49ff-8d11-589d3f22149d",
   "metadata": {},
   "outputs": [],
   "source": [
    "# Create an csv file with final results\n",
    "df_info.to_csv(\"./Countries_Top10_GDP.csv\")"
   ]
  },
  {
   "cell_type": "code",
   "execution_count": null,
   "id": "749876ad-b11a-4339-b2b3-28529b3954fa",
   "metadata": {},
   "outputs": [],
   "source": []
  }
 ],
 "metadata": {
  "kernelspec": {
   "display_name": "Python 3 (ipykernel)",
   "language": "python",
   "name": "python3"
  },
  "language_info": {
   "codemirror_mode": {
    "name": "ipython",
    "version": 3
   },
   "file_extension": ".py",
   "mimetype": "text/x-python",
   "name": "python",
   "nbconvert_exporter": "python",
   "pygments_lexer": "ipython3",
   "version": "3.11.7"
  }
 },
 "nbformat": 4,
 "nbformat_minor": 5
}
