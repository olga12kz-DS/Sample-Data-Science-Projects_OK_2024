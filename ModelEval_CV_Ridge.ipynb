{
 "cells": [
  {
   "cell_type": "markdown",
   "id": "81b6e915-1b53-45f7-8b70-1b3d1430b3f5",
   "metadata": {},
   "source": [
    "### Set-up"
   ]
  },
  {
   "cell_type": "code",
   "execution_count": 40,
   "id": "e1c13450-7118-4e22-bc86-b0d26d8d4706",
   "metadata": {},
   "outputs": [],
   "source": [
    "import pandas as pd\n",
    "import numpy as np\n",
    "import matplotlib.pyplot as plt\n",
    "import seaborn as sns\n",
    "from sklearn.linear_model import LinearRegression, Ridge\n",
    "from tqdm import tqdm\n",
    "\n",
    "from sklearn.model_selection import train_test_split, cross_val_score, GridSearchCV\n",
    "from sklearn.preprocessing import PolynomialFeatures\n",
    "\n",
    "%matplotlib inline"
   ]
  },
  {
   "cell_type": "code",
   "execution_count": 5,
   "id": "8618bf44-4a10-4df1-85bc-0d000ff0798b",
   "metadata": {},
   "outputs": [
    {
     "data": {
      "text/html": [
       "<div>\n",
       "<style scoped>\n",
       "    .dataframe tbody tr th:only-of-type {\n",
       "        vertical-align: middle;\n",
       "    }\n",
       "\n",
       "    .dataframe tbody tr th {\n",
       "        vertical-align: top;\n",
       "    }\n",
       "\n",
       "    .dataframe thead th {\n",
       "        text-align: right;\n",
       "    }\n",
       "</style>\n",
       "<table border=\"1\" class=\"dataframe\">\n",
       "  <thead>\n",
       "    <tr style=\"text-align: right;\">\n",
       "      <th></th>\n",
       "      <th>Manufacturer</th>\n",
       "      <th>Category</th>\n",
       "      <th>GPU</th>\n",
       "      <th>OS</th>\n",
       "      <th>CPU_core</th>\n",
       "      <th>Screen_Size_inch</th>\n",
       "      <th>CPU_frequency</th>\n",
       "      <th>RAM_GB</th>\n",
       "      <th>Storage_GB_SSD</th>\n",
       "      <th>Weight_pounds</th>\n",
       "      <th>Price</th>\n",
       "      <th>Price-binned</th>\n",
       "      <th>Screen-Full_HD</th>\n",
       "      <th>Screen-IPS_panel</th>\n",
       "    </tr>\n",
       "  </thead>\n",
       "  <tbody>\n",
       "    <tr>\n",
       "      <th>0</th>\n",
       "      <td>Acer</td>\n",
       "      <td>4</td>\n",
       "      <td>2</td>\n",
       "      <td>1</td>\n",
       "      <td>5</td>\n",
       "      <td>14.0</td>\n",
       "      <td>0.551724</td>\n",
       "      <td>8</td>\n",
       "      <td>256</td>\n",
       "      <td>3.528</td>\n",
       "      <td>978</td>\n",
       "      <td>Low</td>\n",
       "      <td>0</td>\n",
       "      <td>1</td>\n",
       "    </tr>\n",
       "    <tr>\n",
       "      <th>1</th>\n",
       "      <td>Dell</td>\n",
       "      <td>3</td>\n",
       "      <td>1</td>\n",
       "      <td>1</td>\n",
       "      <td>3</td>\n",
       "      <td>15.6</td>\n",
       "      <td>0.689655</td>\n",
       "      <td>4</td>\n",
       "      <td>256</td>\n",
       "      <td>4.851</td>\n",
       "      <td>634</td>\n",
       "      <td>Low</td>\n",
       "      <td>1</td>\n",
       "      <td>0</td>\n",
       "    </tr>\n",
       "    <tr>\n",
       "      <th>2</th>\n",
       "      <td>Dell</td>\n",
       "      <td>3</td>\n",
       "      <td>1</td>\n",
       "      <td>1</td>\n",
       "      <td>7</td>\n",
       "      <td>15.6</td>\n",
       "      <td>0.931034</td>\n",
       "      <td>8</td>\n",
       "      <td>256</td>\n",
       "      <td>4.851</td>\n",
       "      <td>946</td>\n",
       "      <td>Low</td>\n",
       "      <td>1</td>\n",
       "      <td>0</td>\n",
       "    </tr>\n",
       "  </tbody>\n",
       "</table>\n",
       "</div>"
      ],
      "text/plain": [
       "  Manufacturer  Category  GPU  OS  CPU_core  Screen_Size_inch  CPU_frequency  \\\n",
       "0         Acer         4    2   1         5              14.0       0.551724   \n",
       "1         Dell         3    1   1         3              15.6       0.689655   \n",
       "2         Dell         3    1   1         7              15.6       0.931034   \n",
       "\n",
       "   RAM_GB  Storage_GB_SSD  Weight_pounds  Price Price-binned  Screen-Full_HD  \\\n",
       "0       8             256          3.528    978          Low               0   \n",
       "1       4             256          4.851    634          Low               1   \n",
       "2       8             256          4.851    946          Low               1   \n",
       "\n",
       "   Screen-IPS_panel  \n",
       "0                 1  \n",
       "1                 0  \n",
       "2                 0  "
      ]
     },
     "execution_count": 5,
     "metadata": {},
     "output_type": "execute_result"
    }
   ],
   "source": [
    "filepath = \"https://cf-courses-data.s3.us.cloud-object-storage.appdomain.cloud/IBMDeveloperSkillsNetwork-DA0101EN-Coursera/laptop_pricing_dataset_mod2.csv\"\n",
    "df_laptop = pd.read_csv(filepath, header = 0)\n",
    "df_laptop.drop([\"Unnamed: 0.1\", \"Unnamed: 0\"], axis = 1, inplace = True)\n",
    "df_laptop.head(3)"
   ]
  },
  {
   "cell_type": "markdown",
   "id": "55fac56d-f649-4f1b-9e7c-e5c8507a92f5",
   "metadata": {},
   "source": [
    "### Linear Regresson, one parameter"
   ]
  },
  {
   "cell_type": "code",
   "execution_count": null,
   "id": "eed38269-2ceb-4d81-8af7-45977bb90884",
   "metadata": {},
   "outputs": [],
   "source": [
    "# Divide the dataset into x_data and y_data parameters. \n",
    "# Here y_data is the \"Price\" attribute, and x_data has all other attributes in the data set.\n",
    "\n",
    "y_data = df_laptop[\"Price\"]\n",
    "x_data = df_laptop.drop([\"Price\"], axis = 1)"
   ]
  },
  {
   "cell_type": "code",
   "execution_count": 24,
   "id": "231a15e1-7ca4-4206-9d73-8582f1c9273f",
   "metadata": {},
   "outputs": [
    {
     "name": "stdout",
     "output_type": "stream",
     "text": [
      "Number of test observations: 24\n",
      "Number of train observations: 214\n"
     ]
    }
   ],
   "source": [
    "# Split the data into testing and training sets, allotting 10% to the test size\n",
    "\n",
    "x_train, x_test, y_train, y_test = train_test_split(x_data, y_data, test_size = 0.10, random_state = 1)\n",
    "print(\"Number of test observations:\", x_test.shape[0])\n",
    "print(\"Number of train observations:\", x_train.shape[0])"
   ]
  },
  {
   "cell_type": "code",
   "execution_count": 25,
   "id": "5e42b8ea-6061-416f-8a9e-bbe4cb7071cc",
   "metadata": {},
   "outputs": [
    {
     "name": "stdout",
     "output_type": "stream",
     "text": [
      "-0.06599437350393789\n",
      "0.14829792099817973\n"
     ]
    }
   ],
   "source": [
    "# Fit a linear regression for the 10/90 split, attribute = \"CPU Frequency\"\n",
    "lre_10 = LinearRegression()\n",
    "lre_10.fit(x_train[[\"CPU_frequency\"]], y_train)\n",
    "\n",
    "# Report R-sqaured for the test and train subsets\n",
    "print(lre_10.score(x_test[[\"CPU_frequency\"]], y_test)) # The negative R-squared indicates overfitting\n",
    "print(lre_10.score(x_train[[\"CPU_frequency\"]], y_train))"
   ]
  },
  {
   "cell_type": "code",
   "execution_count": 27,
   "id": "cd95f8d5-e0f8-4641-ac6e-59df56143054",
   "metadata": {},
   "outputs": [
    {
     "name": "stdout",
     "output_type": "stream",
     "text": [
      "The mean of the folds is -0.16109232388595113 , and the standard deviation is 0.384957978666471 .\n"
     ]
    }
   ],
   "source": [
    "# Cross-validation with 4 folds \n",
    "Rcross_10 = cross_val_score(lre_10, x_data[[\"CPU_frequency\"]], y_data, cv = 4)\n",
    "print(\"The mean of the folds is\", Rcross_10.mean(), \", and the standard deviation is\", Rcross_10.std(), \".\") "
   ]
  },
  {
   "cell_type": "code",
   "execution_count": 28,
   "id": "b77b960f-1ebf-46da-ade0-6c6564b33f22",
   "metadata": {},
   "outputs": [
    {
     "name": "stdout",
     "output_type": "stream",
     "text": [
      "Number of test observations: 119\n",
      "Number of train observations: 119\n"
     ]
    }
   ],
   "source": [
    "# Re-fit the linear regression model, with 50% reserved for the test subset. \n",
    "x_train, x_test, y_train, y_test = train_test_split(x_data, y_data, test_size = 0.50, random_state = 1)\n",
    "print(\"Number of test observations:\", x_test.shape[0])\n",
    "print(\"Number of train observations:\", x_train.shape[0])"
   ]
  },
  {
   "cell_type": "code",
   "execution_count": 29,
   "id": "dcc6e38e-66ec-4750-9303-1afe6a80685b",
   "metadata": {},
   "outputs": [
    {
     "name": "stdout",
     "output_type": "stream",
     "text": [
      "0.028619411720164023\n",
      "0.16877147625014488\n"
     ]
    }
   ],
   "source": [
    "# Fit a linear regression for the 50/50 split, attribute = \"CPU Frequency\"\n",
    "lre_50 = LinearRegression()\n",
    "lre_50.fit(x_train[[\"CPU_frequency\"]], y_train)\n",
    "\n",
    "# Report R-squared for the test and train subsets\n",
    "print(lre_50.score(x_test[[\"CPU_frequency\"]], y_test)) \n",
    "print(lre_50.score(x_train[[\"CPU_frequency\"]], y_train))"
   ]
  },
  {
   "cell_type": "code",
   "execution_count": 32,
   "id": "f36448d0-29f3-49b6-8828-33b2865d168a",
   "metadata": {},
   "outputs": [],
   "source": [
    "# Identify points of overfitting on the attribute \"CPU Frequency\" by using a series of polynomial features of the attribute. \n",
    "# Evaluate each model (1 - 5 degrees) by its R-squared. \n",
    "\n",
    "lre = LinearRegression()\n",
    "Rsq_test = []\n",
    "order = [1, 2, 3, 4, 5]\n",
    "for n in order:\n",
    "    pr = PolynomialFeatures(degree = n)\n",
    "    x_train_pr = pr.fit_transform(x_train[[\"CPU_frequency\"]])\n",
    "    x_test_pr = pr.fit_transform(x_test[[\"CPU_frequency\"]])\n",
    "    lre.fit(x_train_pr, y_train)\n",
    "    Rsq_test.append(lre.score(x_test_pr, y_test))"
   ]
  },
  {
   "cell_type": "code",
   "execution_count": 35,
   "id": "b91668d7-7b0b-4db7-8e63-516792f4fc4a",
   "metadata": {},
   "outputs": [
    {
     "data": {
      "text/plain": [
       "Text(0.5, 1.0, 'R-squared Using Testing Subset')"
      ]
     },
     "execution_count": 35,
     "metadata": {},
     "output_type": "execute_result"
    },
    {
     "data": {
      "image/png": "[encoded data removed]",
      "text/plain": [
       "<Figure size 640x480 with 1 Axes>"
      ]
     },
     "metadata": {},
     "output_type": "display_data"
    }
   ],
   "source": [
    "# Plot the mean R-squared of each model by degree. \n",
    "\n",
    "plt.plot(order, Rsq_test)\n",
    "plt.xlabel(\"Order\")\n",
    "plt.ylabel(\"R-squared\")\n",
    "plt.title(\"R-squared Using Testing Subset\")"
   ]
  },
  {
   "cell_type": "markdown",
   "id": "7c18ca41-a54b-47c8-9e5a-93c7757d193e",
   "metadata": {},
   "source": [
    "### Polynomial Regression, multiple parameters"
   ]
  },
  {
   "cell_type": "code",
   "execution_count": 37,
   "id": "43ce28cd-d98c-4241-92b9-53371eb6d092",
   "metadata": {},
   "outputs": [],
   "source": [
    "# Polynomia Regression, degree = 2, with multiple attributes/parameters. \n",
    "\n",
    "pr2 = PolynomialFeatures(degree = 2)\n",
    "x_train_pr2 = pr2.fit_transform(x_train[[\"CPU_frequency\", \"RAM_GB\", \"Storage_GB_SSD\", \"CPU_core\", \"OS\", \"GPU\", \"Category\"]])\n",
    "x_test_pr2 = pr2.fit_transform(x_test[[\"CPU_frequency\", \"RAM_GB\", \"Storage_GB_SSD\", \"CPU_core\", \"OS\", \"GPU\", \"Category\"]])"
   ]
  },
  {
   "cell_type": "code",
   "execution_count": 41,
   "id": "7f5091fd-6f12-4def-8764-50cce2dfb0d5",
   "metadata": {},
   "outputs": [
    {
     "name": "stderr",
     "output_type": "stream",
     "text": [
      "100%|██████████| 999/999 [00:03<00:00, 286.78it/s, Test Score=0.507, Train Score=0.642]\n"
     ]
    }
   ],
   "source": [
    "# Ridge Regression model, evaluation by using values of the hyperparameter alpha ranging from 0.001 to 1 with increments of 0.001.\n",
    "\n",
    "Rsq2_test = []\n",
    "Rsq2_train = []\n",
    "Alpha = np.arange(0.001,1,0.001)\n",
    "pbar = tqdm(Alpha)\n",
    "\n",
    "for alpha in pbar:\n",
    "    RidgeModel = Ridge(alpha=alpha) \n",
    "    RidgeModel.fit(x_train_pr2, y_train)\n",
    "    test_score, train_score = RidgeModel.score(x_test_pr2, y_test), RidgeModel.score(x_train_pr2, y_train)\n",
    "    pbar.set_postfix({\"Test Score\": test_score, \"Train Score\": train_score})\n",
    "    Rsq2_test.append(test_score)\n",
    "    Rsq2_train.append(train_score)\n"
   ]
  },
  {
   "cell_type": "code",
   "execution_count": 42,
   "id": "65f0a875-de27-43ef-8156-5e64f0993dc6",
   "metadata": {},
   "outputs": [
    {
     "data": {
      "text/plain": [
       "<matplotlib.legend.Legend at 0x25ad3210790>"
      ]
     },
     "execution_count": 42,
     "metadata": {},
     "output_type": "execute_result"
    },
    {
     "data": {
      "image/png": "[encoded data removed]",
      "text/plain": [
       "<Figure size 400x200 with 1 Axes>"
      ]
     },
     "metadata": {},
     "output_type": "display_data"
    }
   ],
   "source": [
    "# Plot the mean R-squared values\n",
    "\n",
    "plt.figure(figsize=(4, 2))  \n",
    "plt.plot(Alpha, Rsq2_test, label=\"Validation Data\")\n",
    "plt.plot(Alpha, Rsq2_train, 'r', label=\"Training Data\")\n",
    "plt.xlabel('alpha')\n",
    "plt.ylabel('R-squared')\n",
    "plt.ylim(0, 1)\n",
    "plt.legend()"
   ]
  },
  {
   "cell_type": "markdown",
   "id": "f9c62288-fa28-4422-8b74-db00d1a99ad1",
   "metadata": {},
   "source": [
    "### Grid Search"
   ]
  },
  {
   "cell_type": "code",
   "execution_count": 44,
   "id": "3d4da7d9-7514-47a7-b026-258843824d71",
   "metadata": {},
   "outputs": [],
   "source": [
    "# Using the raw data and the same set of features as used above, an example of GridSearchCV function\n",
    "# to identify the value of alpha at which the model performs best. \n",
    "# Assume the set of alpha values to be used as {0.0001, 0.001, 0.01, 0.1, 1, 10}\n",
    "\n",
    "parameters1 = [{\"alpha\": [0.0001, 0.001, 0.01, 1, 10]}]"
   ]
  },
  {
   "cell_type": "code",
   "execution_count": 45,
   "id": "24411647-b246-422a-9242-3b5901fdfdb9",
   "metadata": {},
   "outputs": [],
   "source": [
    "# Grid Search, folds = 4\n",
    "\n",
    "RR = Ridge()\n",
    "Grid1 = GridSearchCV(RR, parameters1, cv = 4)"
   ]
  },
  {
   "cell_type": "code",
   "execution_count": 46,
   "id": "0ddfe9b8-2b56-4ac9-a656-739e0301c4c6",
   "metadata": {},
   "outputs": [
    {
     "data": {
      "text/html": [
       "<style>#sk-container-id-1 {color: black;background-color: white;}#sk-container-id-1 pre{padding: 0;}#sk-container-id-1 div.sk-toggleable {background-color: white;}#sk-container-id-1 label.sk-toggleable__label {cursor: pointer;display: block;width: 100%;margin-bottom: 0;padding: 0.3em;box-sizing: border-box;text-align: center;}#sk-container-id-1 label.sk-toggleable__label-arrow:before {content: \"▸\";float: left;margin-right: 0.25em;color: #696969;}#sk-container-id-1 label.sk-toggleable__label-arrow:hover:before {color: black;}#sk-container-id-1 div.sk-estimator:hover label.sk-toggleable__label-arrow:before {color: black;}#sk-container-id-1 div.sk-toggleable__content {max-height: 0;max-width: 0;overflow: hidden;text-align: left;background-color: #f0f8ff;}#sk-container-id-1 div.sk-toggleable__content pre {margin: 0.2em;color: black;border-radius: 0.25em;background-color: #f0f8ff;}#sk-container-id-1 input.sk-toggleable__control:checked~div.sk-toggleable__content {max-height: 200px;max-width: 100%;overflow: auto;}#sk-container-id-1 input.sk-toggleable__control:checked~label.sk-toggleable__label-arrow:before {content: \"▾\";}#sk-container-id-1 div.sk-estimator input.sk-toggleable__control:checked~label.sk-toggleable__label {background-color: #d4ebff;}#sk-container-id-1 div.sk-label input.sk-toggleable__control:checked~label.sk-toggleable__label {background-color: #d4ebff;}#sk-container-id-1 input.sk-hidden--visually {border: 0;clip: rect(1px 1px 1px 1px);clip: rect(1px, 1px, 1px, 1px);height: 1px;margin: -1px;overflow: hidden;padding: 0;position: absolute;width: 1px;}#sk-container-id-1 div.sk-estimator {font-family: monospace;background-color: #f0f8ff;border: 1px dotted black;border-radius: 0.25em;box-sizing: border-box;margin-bottom: 0.5em;}#sk-container-id-1 div.sk-estimator:hover {background-color: #d4ebff;}#sk-container-id-1 div.sk-parallel-item::after {content: \"\";width: 100%;border-bottom: 1px solid gray;flex-grow: 1;}#sk-container-id-1 div.sk-label:hover label.sk-toggleable__label {background-color: #d4ebff;}#sk-container-id-1 div.sk-serial::before {content: \"\";position: absolute;border-left: 1px solid gray;box-sizing: border-box;top: 0;bottom: 0;left: 50%;z-index: 0;}#sk-container-id-1 div.sk-serial {display: flex;flex-direction: column;align-items: center;background-color: white;padding-right: 0.2em;padding-left: 0.2em;position: relative;}#sk-container-id-1 div.sk-item {position: relative;z-index: 1;}#sk-container-id-1 div.sk-parallel {display: flex;align-items: stretch;justify-content: center;background-color: white;position: relative;}#sk-container-id-1 div.sk-item::before, #sk-container-id-1 div.sk-parallel-item::before {content: \"\";position: absolute;border-left: 1px solid gray;box-sizing: border-box;top: 0;bottom: 0;left: 50%;z-index: -1;}#sk-container-id-1 div.sk-parallel-item {display: flex;flex-direction: column;z-index: 1;position: relative;background-color: white;}#sk-container-id-1 div.sk-parallel-item:first-child::after {align-self: flex-end;width: 50%;}#sk-container-id-1 div.sk-parallel-item:last-child::after {align-self: flex-start;width: 50%;}#sk-container-id-1 div.sk-parallel-item:only-child::after {width: 0;}#sk-container-id-1 div.sk-dashed-wrapped {border: 1px dashed gray;margin: 0 0.4em 0.5em 0.4em;box-sizing: border-box;padding-bottom: 0.4em;background-color: white;}#sk-container-id-1 div.sk-label label {font-family: monospace;font-weight: bold;display: inline-block;line-height: 1.2em;}#sk-container-id-1 div.sk-label-container {text-align: center;}#sk-container-id-1 div.sk-container {/* jupyter's `normalize.less` sets `[hidden] { display: none; }` but bootstrap.min.css set `[hidden] { display: none !important; }` so we also need the `!important` here to be able to override the default hidden behavior on the sphinx rendered scikit-learn.org. See: https://github.com/scikit-learn/scikit-learn/issues/21755 */display: inline-block !important;position: relative;}#sk-container-id-1 div.sk-text-repr-fallback {display: none;}</style><div id=\"sk-container-id-1\" class=\"sk-top-container\"><div class=\"sk-text-repr-fallback\"><pre>GridSearchCV(cv=4, estimator=Ridge(),\n",
       "             param_grid=[{&#x27;alpha&#x27;: [0.0001, 0.001, 0.01, 1, 10]}])</pre><b>In a Jupyter environment, please rerun this cell to show the HTML representation or trust the notebook. <br />On GitHub, the HTML representation is unable to render, please try loading this page with nbviewer.org.</b></div><div class=\"sk-container\" hidden><div class=\"sk-item sk-dashed-wrapped\"><div class=\"sk-label-container\"><div class=\"sk-label sk-toggleable\"><input class=\"sk-toggleable__control sk-hidden--visually\" id=\"sk-estimator-id-1\" type=\"checkbox\" ><label for=\"sk-estimator-id-1\" class=\"sk-toggleable__label sk-toggleable__label-arrow\">GridSearchCV</label><div class=\"sk-toggleable__content\"><pre>GridSearchCV(cv=4, estimator=Ridge(),\n",
       "             param_grid=[{&#x27;alpha&#x27;: [0.0001, 0.001, 0.01, 1, 10]}])</pre></div></div></div><div class=\"sk-parallel\"><div class=\"sk-parallel-item\"><div class=\"sk-item\"><div class=\"sk-label-container\"><div class=\"sk-label sk-toggleable\"><input class=\"sk-toggleable__control sk-hidden--visually\" id=\"sk-estimator-id-2\" type=\"checkbox\" ><label for=\"sk-estimator-id-2\" class=\"sk-toggleable__label sk-toggleable__label-arrow\">estimator: Ridge</label><div class=\"sk-toggleable__content\"><pre>Ridge()</pre></div></div></div><div class=\"sk-serial\"><div class=\"sk-item\"><div class=\"sk-estimator sk-toggleable\"><input class=\"sk-toggleable__control sk-hidden--visually\" id=\"sk-estimator-id-3\" type=\"checkbox\" ><label for=\"sk-estimator-id-3\" class=\"sk-toggleable__label sk-toggleable__label-arrow\">Ridge</label><div class=\"sk-toggleable__content\"><pre>Ridge()</pre></div></div></div></div></div></div></div></div></div></div>"
      ],
      "text/plain": [
       "GridSearchCV(cv=4, estimator=Ridge(),\n",
       "             param_grid=[{'alpha': [0.0001, 0.001, 0.01, 1, 10]}])"
      ]
     },
     "execution_count": 46,
     "metadata": {},
     "output_type": "execute_result"
    }
   ],
   "source": [
    "# Fitting the Grid to the train subset\n",
    "\n",
    "Grid1.fit(x_train[[\"CPU_frequency\", \"RAM_GB\", \"Storage_GB_SSD\", \"CPU_core\", \"OS\", \"GPU\", \"Category\"]], y_train)"
   ]
  },
  {
   "cell_type": "code",
   "execution_count": 48,
   "id": "9b79d821-9488-4587-8010-ed5d441b81f3",
   "metadata": {},
   "outputs": [
    {
     "name": "stdout",
     "output_type": "stream",
     "text": [
      "0.42296349452687465\n"
     ]
    }
   ],
   "source": [
    "# R-squared score for the test data applying the estimator that uses the derived optimum value of alpha.\n",
    "\n",
    "BestRR = Grid1.best_estimator_\n",
    "print(BestRR.score(x_test[[\"CPU_frequency\", \"RAM_GB\", \"Storage_GB_SSD\", \"CPU_core\", \"OS\", \"GPU\", \"Category\"]], y_test))"
   ]
  }
 ],
 "metadata": {
  "kernelspec": {
   "display_name": "Python 3 (ipykernel)",
   "language": "python",
   "name": "python3"
  },
  "language_info": {
   "codemirror_mode": {
    "name": "ipython",
    "version": 3
   },
   "file_extension": ".py",
   "mimetype": "text/x-python",
   "name": "python",
   "nbconvert_exporter": "python",
   "pygments_lexer": "ipython3",
   "version": "3.11.7"
  }
 },
 "nbformat": 4,
 "nbformat_minor": 5
}
